{
 "cells": [
  {
   "cell_type": "markdown",
   "metadata": {},
   "source": [
    "< [Introduction](Introduction.ipynb) | [Contents](Contents.ipynb) | [Prepare the initial section of the model](STREAM_Initial.ipynb) >"
   ]
  },
  {
   "cell_type": "markdown",
   "metadata": {},
   "source": [
    "# 2. The PCRaster Dynamic Modelling Framework\n",
    "In the previous tutorials you've worked with the PCRaster library for map algebra. PCRaster's real power, however, is the dynamic modelling framework. In this section you'll learn more about the dynamic modelling framework. In the next secions we're going to build the STREAM model to simulate runoff in the Upper Mara River Basin, Kenya."
   ]
  },
  {
   "cell_type": "markdown",
   "metadata": {},
   "source": [
    "The PCRaster Dynamic Modelling Framework can be used with the following template:\n",
    "```Python\n",
    "from pcraster import *\n",
    "from pcraster.framework import *\n",
    "\n",
    "class RunoffModel(DynamicModel):\n",
    "  def __init__(self, cloneMap):\n",
    "    DynamicModel.__init__(self)\n",
    "    setclone(cloneMap)\n",
    "\n",
    "  def initial(self):\n",
    "      # Here you write the code that has to be run only once.\n",
    "  \n",
    "  def dynamic(self):\n",
    "      # Here you write the code that needs to be executed every time step.\n",
    "  \n",
    "myModel = RunoffModel(\"mask.map\")\n",
    "dynModelFw = DynamicFramework(myModel, lastTimeStep=100, firstTimestep=1)\n",
    "dynModelFw.run()\n",
    "```\n"
   ]
  },
  {
   "cell_type": "code",
   "execution_count": null,
   "metadata": {},
   "outputs": [],
   "source": []
  },
  {
   "cell_type": "markdown",
   "metadata": {},
   "source": [
    "When you make your own model you need to change the following in this template:\n",
    "1. Define the clone map. In this case it's called `mask.map`. All raster maps need to have the same properties as the clone map (i.e. same number of rows and collumns, coordinate system, extent, pixels size). PCRaster checks this when the code is run.\n",
    "2. Define the time steps. Here `lastTimeStep=100` and `firstTimestep=1` means that the model runs 100 time steps starting at time step 1.\n",
    "3. Under `def initial(self)` you write code that needs to be run only once, i.e. for model initialisation.\n",
    "4. Under `def dynamic(self)` you write code that needs to be executed every time step., i.e. the iterations.\n",
    "\n",
    "Let's have a look at how this works by running the code below.\n"
   ]
  },
  {
   "cell_type": "code",
   "execution_count": 2,
   "metadata": {},
   "outputs": [
    {
     "name": "stdout",
     "output_type": "stream",
     "text": [
      ".........."
     ]
    },
    {
     "data": {
      "text/plain": [
       "0"
      ]
     },
     "execution_count": 2,
     "metadata": {},
     "output_type": "execute_result"
    }
   ],
   "source": [
    "from pcraster import *\n",
    "from pcraster.framework import *\n",
    "\n",
    "class RunoffModel(DynamicModel):\n",
    "    def __init__(self, cloneMap):\n",
    "        DynamicModel.__init__(self)\n",
    "        setclone(cloneMap)\n",
    "    \n",
    "    def initial(self):\n",
    "        pass\n",
    "        \n",
    "        \n",
    "        \n",
    "    \n",
    "    def dynamic(self):\n",
    "        pass\n",
    "        \n",
    "        \n",
    "\n",
    "  \n",
    "myModel = RunoffModel(\"./Data/mask.map\")\n",
    "dynModelFw = DynamicFramework(myModel, lastTimeStep=10, firstTimestep=1)\n",
    "dynModelFw.run()"
   ]
  },
  {
   "cell_type": "code",
   "execution_count": 17,
   "metadata": {},
   "outputs": [],
   "source": [
    "mask = readmap(\"Data/mask.map\")\n",
    "aguila(mask)\n"
   ]
  },
  {
   "cell_type": "code",
   "execution_count": 10,
   "metadata": {},
   "outputs": [
    {
     "name": "stdout",
     "output_type": "stream",
     "text": [
      "/mnt/c/Users/felip/OneDrive - Universidad Nacional de Colombia/2_Formation/DataSc/2_SpatialDS/3_PrGeoHydApp/1_IHEpy4hydroapp/3_MapAlPcrtut/4_PCRasterRunoffModel\n"
     ]
    }
   ],
   "source": []
  },
  {
   "cell_type": "markdown",
   "metadata": {},
   "source": [
    "Note that for each iteration in the `dynamic` section it prints a `.`."
   ]
  },
  {
   "cell_type": "markdown",
   "metadata": {},
   "source": [
    "If we want to use variables and constants, we can do that in different ways.\n",
    "Have a look at the script below and run it."
   ]
  },
  {
   "cell_type": "code",
   "execution_count": 21,
   "metadata": {},
   "outputs": [
    {
     "name": "stdout",
     "output_type": "stream",
     "text": [
      "1\n",
      ".2\n",
      ".2\n",
      "."
     ]
    },
    {
     "ename": "KeyboardInterrupt",
     "evalue": "",
     "output_type": "error",
     "traceback": [
      "\u001b[0;31m---------------------------------------------------------------------------\u001b[0m",
      "\u001b[0;31mKeyboardInterrupt\u001b[0m                         Traceback (most recent call last)",
      "\u001b[1;32m/home/felwind14/Ds/2_SpatialDS/3_PrGeoHydApp/1_IHEpy4hydroapp/3_MapAlPcrtut/4_PCRasterRunoffModel/2_PCRasterDynamicModellingFramework.ipynb Cell 11\u001b[0m line \u001b[0;36m2\n\u001b[1;32m     <a href='vscode-notebook-cell://wsl%2Bubuntu-22.04/home/felwind14/Ds/2_SpatialDS/3_PrGeoHydApp/1_IHEpy4hydroapp/3_MapAlPcrtut/4_PCRasterRunoffModel/2_PCRasterDynamicModellingFramework.ipynb#X10sdnNjb2RlLXJlbW90ZQ%3D%3D?line=18'>19</a>\u001b[0m myModel \u001b[39m=\u001b[39m RunoffModel(\u001b[39m\"\u001b[39m\u001b[39m./Data/mask.map\u001b[39m\u001b[39m\"\u001b[39m)\n\u001b[1;32m     <a href='vscode-notebook-cell://wsl%2Bubuntu-22.04/home/felwind14/Ds/2_SpatialDS/3_PrGeoHydApp/1_IHEpy4hydroapp/3_MapAlPcrtut/4_PCRasterRunoffModel/2_PCRasterDynamicModellingFramework.ipynb#X10sdnNjb2RlLXJlbW90ZQ%3D%3D?line=19'>20</a>\u001b[0m dynModelFw \u001b[39m=\u001b[39m DynamicFramework(myModel, lastTimeStep\u001b[39m=\u001b[39m\u001b[39m10\u001b[39m, firstTimestep\u001b[39m=\u001b[39m\u001b[39m1\u001b[39m)\n\u001b[0;32m---> <a href='vscode-notebook-cell://wsl%2Bubuntu-22.04/home/felwind14/Ds/2_SpatialDS/3_PrGeoHydApp/1_IHEpy4hydroapp/3_MapAlPcrtut/4_PCRasterRunoffModel/2_PCRasterDynamicModellingFramework.ipynb#X10sdnNjb2RlLXJlbW90ZQ%3D%3D?line=20'>21</a>\u001b[0m dynModelFw\u001b[39m.\u001b[39;49mrun()\n",
      "File \u001b[0;32m~/miniconda3/envs/pcraster/lib/python3.11/site-packages/pcraster/framework/dynamicFramework.py:65\u001b[0m, in \u001b[0;36mDynamicFramework.run\u001b[0;34m(self)\u001b[0m\n\u001b[1;32m     62\u001b[0m \u001b[39melse\u001b[39;00m:\n\u001b[1;32m     63\u001b[0m   \u001b[39mself\u001b[39m\u001b[39m.\u001b[39m_runInitial()\n\u001b[0;32m---> 65\u001b[0m \u001b[39mself\u001b[39;49m\u001b[39m.\u001b[39;49m_runDynamic()\n\u001b[1;32m     67\u001b[0m \u001b[39m# Only execute this section while running filter frameworks.\u001b[39;00m\n\u001b[1;32m     68\u001b[0m \u001b[39mif\u001b[39;00m \u001b[39mhasattr\u001b[39m(\u001b[39mself\u001b[39m\u001b[39m.\u001b[39m_userModel(), \u001b[39m\"\u001b[39m\u001b[39msuspend\u001b[39m\u001b[39m\"\u001b[39m) \u001b[39mand\u001b[39;00m \\\n\u001b[1;32m     69\u001b[0m   \u001b[39mhasattr\u001b[39m(\u001b[39mself\u001b[39m\u001b[39m.\u001b[39m_userModel(), \u001b[39m\"\u001b[39m\u001b[39mfilterPeriod\u001b[39m\u001b[39m\"\u001b[39m):\n",
      "File \u001b[0;32m~/miniconda3/envs/pcraster/lib/python3.11/site-packages/pcraster/framework/frameworkBase.py:371\u001b[0m, in \u001b[0;36mFrameworkBase._runDynamic\u001b[0;34m(self)\u001b[0m\n\u001b[1;32m    369\u001b[0m \u001b[39mself\u001b[39m\u001b[39m.\u001b[39m_incrementIndentLevel()\n\u001b[1;32m    370\u001b[0m \u001b[39mself\u001b[39m\u001b[39m.\u001b[39m_traceIn(\u001b[39m\"\u001b[39m\u001b[39mdynamic\u001b[39m\u001b[39m\"\u001b[39m)\n\u001b[0;32m--> 371\u001b[0m \u001b[39mself\u001b[39;49m\u001b[39m.\u001b[39;49m_userModel()\u001b[39m.\u001b[39;49mdynamic()\n\u001b[1;32m    372\u001b[0m \u001b[39mself\u001b[39m\u001b[39m.\u001b[39m_traceOut(\u001b[39m\"\u001b[39m\u001b[39mdynamic\u001b[39m\u001b[39m\"\u001b[39m)\n\u001b[1;32m    373\u001b[0m \u001b[39mself\u001b[39m\u001b[39m.\u001b[39m_decrementIndentLevel()\n",
      "\u001b[1;32m/home/felwind14/Ds/2_SpatialDS/3_PrGeoHydApp/1_IHEpy4hydroapp/3_MapAlPcrtut/4_PCRasterRunoffModel/2_PCRasterDynamicModellingFramework.ipynb Cell 11\u001b[0m line \u001b[0;36m1\n\u001b[1;32m     <a href='vscode-notebook-cell://wsl%2Bubuntu-22.04/home/felwind14/Ds/2_SpatialDS/3_PrGeoHydApp/1_IHEpy4hydroapp/3_MapAlPcrtut/4_PCRasterRunoffModel/2_PCRasterDynamicModellingFramework.ipynb#X10sdnNjb2RlLXJlbW90ZQ%3D%3D?line=13'>14</a>\u001b[0m \u001b[39mdef\u001b[39;00m \u001b[39mdynamic\u001b[39m(\u001b[39mself\u001b[39m):\n\u001b[0;32m---> <a href='vscode-notebook-cell://wsl%2Bubuntu-22.04/home/felwind14/Ds/2_SpatialDS/3_PrGeoHydApp/1_IHEpy4hydroapp/3_MapAlPcrtut/4_PCRasterRunoffModel/2_PCRasterDynamicModellingFramework.ipynb#X10sdnNjb2RlLXJlbW90ZQ%3D%3D?line=14'>15</a>\u001b[0m     c \u001b[39m=\u001b[39m \u001b[39m1\u001b[39m\n\u001b[1;32m     <a href='vscode-notebook-cell://wsl%2Bubuntu-22.04/home/felwind14/Ds/2_SpatialDS/3_PrGeoHydApp/1_IHEpy4hydroapp/3_MapAlPcrtut/4_PCRasterRunoffModel/2_PCRasterDynamicModellingFramework.ipynb#X10sdnNjb2RlLXJlbW90ZQ%3D%3D?line=15'>16</a>\u001b[0m     d \u001b[39m=\u001b[39m c \u001b[39m+\u001b[39m \u001b[39m1\u001b[39m\n\u001b[1;32m     <a href='vscode-notebook-cell://wsl%2Bubuntu-22.04/home/felwind14/Ds/2_SpatialDS/3_PrGeoHydApp/1_IHEpy4hydroapp/3_MapAlPcrtut/4_PCRasterRunoffModel/2_PCRasterDynamicModellingFramework.ipynb#X10sdnNjb2RlLXJlbW90ZQ%3D%3D?line=16'>17</a>\u001b[0m     \u001b[39mprint\u001b[39m(d)\n",
      "\u001b[1;32m/home/felwind14/Ds/2_SpatialDS/3_PrGeoHydApp/1_IHEpy4hydroapp/3_MapAlPcrtut/4_PCRasterRunoffModel/2_PCRasterDynamicModellingFramework.ipynb Cell 11\u001b[0m line \u001b[0;36m1\n\u001b[1;32m     <a href='vscode-notebook-cell://wsl%2Bubuntu-22.04/home/felwind14/Ds/2_SpatialDS/3_PrGeoHydApp/1_IHEpy4hydroapp/3_MapAlPcrtut/4_PCRasterRunoffModel/2_PCRasterDynamicModellingFramework.ipynb#X10sdnNjb2RlLXJlbW90ZQ%3D%3D?line=13'>14</a>\u001b[0m \u001b[39mdef\u001b[39;00m \u001b[39mdynamic\u001b[39m(\u001b[39mself\u001b[39m):\n\u001b[0;32m---> <a href='vscode-notebook-cell://wsl%2Bubuntu-22.04/home/felwind14/Ds/2_SpatialDS/3_PrGeoHydApp/1_IHEpy4hydroapp/3_MapAlPcrtut/4_PCRasterRunoffModel/2_PCRasterDynamicModellingFramework.ipynb#X10sdnNjb2RlLXJlbW90ZQ%3D%3D?line=14'>15</a>\u001b[0m     c \u001b[39m=\u001b[39m \u001b[39m1\u001b[39m\n\u001b[1;32m     <a href='vscode-notebook-cell://wsl%2Bubuntu-22.04/home/felwind14/Ds/2_SpatialDS/3_PrGeoHydApp/1_IHEpy4hydroapp/3_MapAlPcrtut/4_PCRasterRunoffModel/2_PCRasterDynamicModellingFramework.ipynb#X10sdnNjb2RlLXJlbW90ZQ%3D%3D?line=15'>16</a>\u001b[0m     d \u001b[39m=\u001b[39m c \u001b[39m+\u001b[39m \u001b[39m1\u001b[39m\n\u001b[1;32m     <a href='vscode-notebook-cell://wsl%2Bubuntu-22.04/home/felwind14/Ds/2_SpatialDS/3_PrGeoHydApp/1_IHEpy4hydroapp/3_MapAlPcrtut/4_PCRasterRunoffModel/2_PCRasterDynamicModellingFramework.ipynb#X10sdnNjb2RlLXJlbW90ZQ%3D%3D?line=16'>17</a>\u001b[0m     \u001b[39mprint\u001b[39m(d)\n",
      "File \u001b[0;32m_pydevd_bundle/pydevd_cython.pyx:1457\u001b[0m, in \u001b[0;36m_pydevd_bundle.pydevd_cython.SafeCallWrapper.__call__\u001b[0;34m()\u001b[0m\n",
      "File \u001b[0;32m_pydevd_bundle/pydevd_cython.pyx:701\u001b[0m, in \u001b[0;36m_pydevd_bundle.pydevd_cython.PyDBFrame.trace_dispatch\u001b[0;34m()\u001b[0m\n",
      "File \u001b[0;32m_pydevd_bundle/pydevd_cython.pyx:1395\u001b[0m, in \u001b[0;36m_pydevd_bundle.pydevd_cython.PyDBFrame.trace_dispatch\u001b[0;34m()\u001b[0m\n",
      "File \u001b[0;32m_pydevd_bundle/pydevd_cython.pyx:1344\u001b[0m, in \u001b[0;36m_pydevd_bundle.pydevd_cython.PyDBFrame.trace_dispatch\u001b[0;34m()\u001b[0m\n",
      "File \u001b[0;32m_pydevd_bundle/pydevd_cython.pyx:312\u001b[0m, in \u001b[0;36m_pydevd_bundle.pydevd_cython.PyDBFrame.do_wait_suspend\u001b[0;34m()\u001b[0m\n",
      "File \u001b[0;32m~/miniconda3/envs/pcraster/lib/python3.11/site-packages/debugpy/_vendored/pydevd/pydevd.py:2070\u001b[0m, in \u001b[0;36mPyDB.do_wait_suspend\u001b[0;34m(self, thread, frame, event, arg, exception_type)\u001b[0m\n\u001b[1;32m   2067\u001b[0m             from_this_thread\u001b[39m.\u001b[39mappend(frame_custom_thread_id)\n\u001b[1;32m   2069\u001b[0m     \u001b[39mwith\u001b[39;00m \u001b[39mself\u001b[39m\u001b[39m.\u001b[39m_threads_suspended_single_notification\u001b[39m.\u001b[39mnotify_thread_suspended(thread_id, thread, stop_reason):\n\u001b[0;32m-> 2070\u001b[0m         keep_suspended \u001b[39m=\u001b[39m \u001b[39mself\u001b[39;49m\u001b[39m.\u001b[39;49m_do_wait_suspend(thread, frame, event, arg, suspend_type, from_this_thread, frames_tracker)\n\u001b[1;32m   2072\u001b[0m frames_list \u001b[39m=\u001b[39m \u001b[39mNone\u001b[39;00m\n\u001b[1;32m   2074\u001b[0m \u001b[39mif\u001b[39;00m keep_suspended:\n\u001b[1;32m   2075\u001b[0m     \u001b[39m# This means that we should pause again after a set next statement.\u001b[39;00m\n",
      "File \u001b[0;32m~/miniconda3/envs/pcraster/lib/python3.11/site-packages/debugpy/_vendored/pydevd/pydevd.py:2106\u001b[0m, in \u001b[0;36mPyDB._do_wait_suspend\u001b[0;34m(self, thread, frame, event, arg, suspend_type, from_this_thread, frames_tracker)\u001b[0m\n\u001b[1;32m   2103\u001b[0m         \u001b[39mself\u001b[39m\u001b[39m.\u001b[39m_call_input_hook()\n\u001b[1;32m   2105\u001b[0m     \u001b[39mself\u001b[39m\u001b[39m.\u001b[39mprocess_internal_commands()\n\u001b[0;32m-> 2106\u001b[0m     time\u001b[39m.\u001b[39msleep(\u001b[39m0.01\u001b[39m)\n\u001b[1;32m   2108\u001b[0m \u001b[39mself\u001b[39m\u001b[39m.\u001b[39mcancel_async_evaluation(get_current_thread_id(thread), \u001b[39mstr\u001b[39m(\u001b[39mid\u001b[39m(frame)))\n\u001b[1;32m   2110\u001b[0m \u001b[39m# process any stepping instructions\u001b[39;00m\n",
      "\u001b[0;31mKeyboardInterrupt\u001b[0m: "
     ]
    }
   ],
   "source": [
    "from pcraster import *\n",
    "from pcraster.framework import *\n",
    "\n",
    "class RunoffModel(DynamicModel):\n",
    "    def __init__(self, cloneMap):\n",
    "        DynamicModel.__init__(self)\n",
    "        setclone(cloneMap)\n",
    "    \n",
    "    def initial(self):\n",
    "        a = 0\n",
    "        b = a + 1\n",
    "        print(b)\n",
    "    \n",
    "    def dynamic(self):\n",
    "        c = 1\n",
    "        d = c + 1\n",
    "        print(d)\n",
    "        \n",
    "myModel = RunoffModel(\"./Data/mask.map\")\n",
    "dynModelFw = DynamicFramework(myModel, lastTimeStep=10, firstTimestep=1)\n",
    "dynModelFw.run()"
   ]
  },
  {
   "cell_type": "markdown",
   "metadata": {},
   "source": [
    "These are called *local variables*. They can only be used in the function where they are defined, but not outside. Check what happens if we run the code below."
   ]
  },
  {
   "cell_type": "code",
   "execution_count": 22,
   "metadata": {},
   "outputs": [
    {
     "name": "stdout",
     "output_type": "stream",
     "text": [
      "."
     ]
    },
    {
     "ename": "NameError",
     "evalue": "name 'a' is not defined",
     "output_type": "error",
     "traceback": [
      "\u001b[0;31m---------------------------------------------------------------------------\u001b[0m",
      "\u001b[0;31mNameError\u001b[0m                                 Traceback (most recent call last)",
      "\u001b[1;32m/home/felwind14/Ds/2_SpatialDS/3_PrGeoHydApp/1_IHEpy4hydroapp/3_MapAlPcrtut/4_PCRasterRunoffModel/2_PCRasterDynamicModellingFramework.ipynb Cell 13\u001b[0m line \u001b[0;36m1\n\u001b[1;32m     <a href='vscode-notebook-cell://wsl%2Bubuntu-22.04/home/felwind14/Ds/2_SpatialDS/3_PrGeoHydApp/1_IHEpy4hydroapp/3_MapAlPcrtut/4_PCRasterRunoffModel/2_PCRasterDynamicModellingFramework.ipynb#X12sdnNjb2RlLXJlbW90ZQ%3D%3D?line=15'>16</a>\u001b[0m myModel \u001b[39m=\u001b[39m RunoffModel(\u001b[39m\"\u001b[39m\u001b[39m./Data/mask.map\u001b[39m\u001b[39m\"\u001b[39m)\n\u001b[1;32m     <a href='vscode-notebook-cell://wsl%2Bubuntu-22.04/home/felwind14/Ds/2_SpatialDS/3_PrGeoHydApp/1_IHEpy4hydroapp/3_MapAlPcrtut/4_PCRasterRunoffModel/2_PCRasterDynamicModellingFramework.ipynb#X12sdnNjb2RlLXJlbW90ZQ%3D%3D?line=16'>17</a>\u001b[0m dynModelFw \u001b[39m=\u001b[39m DynamicFramework(myModel, lastTimeStep\u001b[39m=\u001b[39m\u001b[39m10\u001b[39m, firstTimestep\u001b[39m=\u001b[39m\u001b[39m1\u001b[39m)\n\u001b[0;32m---> <a href='vscode-notebook-cell://wsl%2Bubuntu-22.04/home/felwind14/Ds/2_SpatialDS/3_PrGeoHydApp/1_IHEpy4hydroapp/3_MapAlPcrtut/4_PCRasterRunoffModel/2_PCRasterDynamicModellingFramework.ipynb#X12sdnNjb2RlLXJlbW90ZQ%3D%3D?line=17'>18</a>\u001b[0m dynModelFw\u001b[39m.\u001b[39;49mrun()\n",
      "File \u001b[0;32m~/miniconda3/envs/pcraster/lib/python3.11/site-packages/pcraster/framework/dynamicFramework.py:65\u001b[0m, in \u001b[0;36mDynamicFramework.run\u001b[0;34m(self)\u001b[0m\n\u001b[1;32m     62\u001b[0m \u001b[39melse\u001b[39;00m:\n\u001b[1;32m     63\u001b[0m   \u001b[39mself\u001b[39m\u001b[39m.\u001b[39m_runInitial()\n\u001b[0;32m---> 65\u001b[0m \u001b[39mself\u001b[39;49m\u001b[39m.\u001b[39;49m_runDynamic()\n\u001b[1;32m     67\u001b[0m \u001b[39m# Only execute this section while running filter frameworks.\u001b[39;00m\n\u001b[1;32m     68\u001b[0m \u001b[39mif\u001b[39;00m \u001b[39mhasattr\u001b[39m(\u001b[39mself\u001b[39m\u001b[39m.\u001b[39m_userModel(), \u001b[39m\"\u001b[39m\u001b[39msuspend\u001b[39m\u001b[39m\"\u001b[39m) \u001b[39mand\u001b[39;00m \\\n\u001b[1;32m     69\u001b[0m   \u001b[39mhasattr\u001b[39m(\u001b[39mself\u001b[39m\u001b[39m.\u001b[39m_userModel(), \u001b[39m\"\u001b[39m\u001b[39mfilterPeriod\u001b[39m\u001b[39m\"\u001b[39m):\n",
      "File \u001b[0;32m~/miniconda3/envs/pcraster/lib/python3.11/site-packages/pcraster/framework/frameworkBase.py:371\u001b[0m, in \u001b[0;36mFrameworkBase._runDynamic\u001b[0;34m(self)\u001b[0m\n\u001b[1;32m    369\u001b[0m \u001b[39mself\u001b[39m\u001b[39m.\u001b[39m_incrementIndentLevel()\n\u001b[1;32m    370\u001b[0m \u001b[39mself\u001b[39m\u001b[39m.\u001b[39m_traceIn(\u001b[39m\"\u001b[39m\u001b[39mdynamic\u001b[39m\u001b[39m\"\u001b[39m)\n\u001b[0;32m--> 371\u001b[0m \u001b[39mself\u001b[39;49m\u001b[39m.\u001b[39;49m_userModel()\u001b[39m.\u001b[39;49mdynamic()\n\u001b[1;32m    372\u001b[0m \u001b[39mself\u001b[39m\u001b[39m.\u001b[39m_traceOut(\u001b[39m\"\u001b[39m\u001b[39mdynamic\u001b[39m\u001b[39m\"\u001b[39m)\n\u001b[1;32m    373\u001b[0m \u001b[39mself\u001b[39m\u001b[39m.\u001b[39m_decrementIndentLevel()\n",
      "\u001b[1;32m/home/felwind14/Ds/2_SpatialDS/3_PrGeoHydApp/1_IHEpy4hydroapp/3_MapAlPcrtut/4_PCRasterRunoffModel/2_PCRasterDynamicModellingFramework.ipynb Cell 13\u001b[0m line \u001b[0;36m1\n\u001b[1;32m     <a href='vscode-notebook-cell://wsl%2Bubuntu-22.04/home/felwind14/Ds/2_SpatialDS/3_PrGeoHydApp/1_IHEpy4hydroapp/3_MapAlPcrtut/4_PCRasterRunoffModel/2_PCRasterDynamicModellingFramework.ipynb#X12sdnNjb2RlLXJlbW90ZQ%3D%3D?line=11'>12</a>\u001b[0m \u001b[39mdef\u001b[39;00m \u001b[39mdynamic\u001b[39m(\u001b[39mself\u001b[39m):\n\u001b[0;32m---> <a href='vscode-notebook-cell://wsl%2Bubuntu-22.04/home/felwind14/Ds/2_SpatialDS/3_PrGeoHydApp/1_IHEpy4hydroapp/3_MapAlPcrtut/4_PCRasterRunoffModel/2_PCRasterDynamicModellingFramework.ipynb#X12sdnNjb2RlLXJlbW90ZQ%3D%3D?line=12'>13</a>\u001b[0m     b \u001b[39m=\u001b[39m a \u001b[39m+\u001b[39m \u001b[39m1\u001b[39m\n\u001b[1;32m     <a href='vscode-notebook-cell://wsl%2Bubuntu-22.04/home/felwind14/Ds/2_SpatialDS/3_PrGeoHydApp/1_IHEpy4hydroapp/3_MapAlPcrtut/4_PCRasterRunoffModel/2_PCRasterDynamicModellingFramework.ipynb#X12sdnNjb2RlLXJlbW90ZQ%3D%3D?line=13'>14</a>\u001b[0m     \u001b[39mprint\u001b[39m(b)\n",
      "\u001b[0;31mNameError\u001b[0m: name 'a' is not defined"
     ]
    }
   ],
   "source": [
    "from pcraster import *\n",
    "from pcraster.framework import *\n",
    "\n",
    "class RunoffModel(DynamicModel):\n",
    "    def __init__(self, cloneMap):\n",
    "        DynamicModel.__init__(self)\n",
    "        setclone(cloneMap)\n",
    "    \n",
    "    def initial(self):\n",
    "        a = 0\n",
    "    \n",
    "    def dynamic(self):\n",
    "        b = a + 1\n",
    "        print(b)\n",
    "        \n",
    "myModel = RunoffModel(\"./Data/mask.map\")\n",
    "dynModelFw = DynamicFramework(myModel, lastTimeStep=10, firstTimestep=1)\n",
    "dynModelFw.run()"
   ]
  },
  {
   "cell_type": "markdown",
   "metadata": {},
   "source": [
    "`NameError: name 'a' is not defined` means that in line 13 Python doesn't know variable `a` yet. If we want to use variable `a` in the `dynamic` section, we need to make it a *global variable*. We do this by adding `self.` before the variable. Check the modified script below and run it."
   ]
  },
  {
   "cell_type": "code",
   "execution_count": 23,
   "metadata": {},
   "outputs": [
    {
     "name": "stdout",
     "output_type": "stream",
     "text": [
      ".1\n",
      ".1\n",
      ".1\n",
      ".1\n",
      ".1\n",
      ".1\n",
      ".1\n",
      ".1\n",
      ".1\n",
      ".1\n"
     ]
    },
    {
     "data": {
      "text/plain": [
       "0"
      ]
     },
     "execution_count": 23,
     "metadata": {},
     "output_type": "execute_result"
    }
   ],
   "source": [
    "from pcraster import *\n",
    "from pcraster.framework import *\n",
    "\n",
    "class RunoffModel(DynamicModel):\n",
    "    def __init__(self, cloneMap):\n",
    "        DynamicModel.__init__(self)\n",
    "        setclone(cloneMap)\n",
    "    \n",
    "    def initial(self):\n",
    "        self.a = 0\n",
    "    \n",
    "    def dynamic(self):\n",
    "        b = self.a + 1\n",
    "        print(b)\n",
    "        \n",
    "myModel = RunoffModel(\"./Data/mask.map\")\n",
    "dynModelFw = DynamicFramework(myModel, lastTimeStep=10, firstTimestep=1)\n",
    "dynModelFw.run()"
   ]
  },
  {
   "cell_type": "markdown",
   "metadata": {},
   "source": [
    "Now we can easily increase variable `b` each time step. Check the following code and run it."
   ]
  },
  {
   "cell_type": "code",
   "execution_count": 24,
   "metadata": {},
   "outputs": [
    {
     "name": "stdout",
     "output_type": "stream",
     "text": [
      ".1\n",
      ".2\n",
      ".3\n",
      ".4\n",
      ".5\n",
      ".6\n",
      ".7\n",
      ".8\n",
      ".9\n",
      ".10\n"
     ]
    },
    {
     "data": {
      "text/plain": [
       "0"
      ]
     },
     "execution_count": 24,
     "metadata": {},
     "output_type": "execute_result"
    }
   ],
   "source": [
    "from pcraster import *\n",
    "from pcraster.framework import *\n",
    "\n",
    "class RunoffModel(DynamicModel):\n",
    "    def __init__(self, cloneMap):\n",
    "        DynamicModel.__init__(self)\n",
    "        setclone(cloneMap)\n",
    "    \n",
    "    def initial(self):\n",
    "        self.a = 0\n",
    "    \n",
    "    def dynamic(self):\n",
    "        b = self.a + 1\n",
    "        self.a = b\n",
    "        print(self.a)\n",
    "        \n",
    "myModel = RunoffModel(\"./Data/mask.map\")\n",
    "dynModelFw = DynamicFramework(myModel, lastTimeStep=10, firstTimestep=1)\n",
    "dynModelFw.run()"
   ]
  },
  {
   "cell_type": "markdown",
   "metadata": {},
   "source": [
    "In the map algebra tutorial you've learned that with `readmap` you can read PCRaster maps from disk and with `report` you can write PCRaster maps to disk. In the dynamic modelling framework this is still the case, but the format it reads and write depends on where you use `readmap` and `report`.\n",
    "\n",
    "In the `initial` section we can read land-use map and soil map from disk using the code below. You can run it to see if it works."
   ]
  },
  {
   "cell_type": "code",
   "execution_count": 25,
   "metadata": {},
   "outputs": [
    {
     "name": "stdout",
     "output_type": "stream",
     "text": [
      ".........."
     ]
    },
    {
     "data": {
      "text/plain": [
       "0"
      ]
     },
     "execution_count": 25,
     "metadata": {},
     "output_type": "execute_result"
    }
   ],
   "source": [
    "from pcraster import *\n",
    "from pcraster.framework import *\n",
    "\n",
    "class RunoffModel(DynamicModel):\n",
    "    def __init__(self, cloneMap):\n",
    "        DynamicModel.__init__(self)\n",
    "        setclone(cloneMap)\n",
    "    \n",
    "    def initial(self):\n",
    "        self.landuse = self.readmap(\"./Data/landuse\")\n",
    "        self.soil = self.readmap(\"./Data/soil\")\n",
    "    \n",
    "    def dynamic(self):\n",
    "        pass\n",
    "        \n",
    "myModel = RunoffModel(\"./Data/mask.map\")\n",
    "dynModelFw = DynamicFramework(myModel, lastTimeStep=10, firstTimestep=1)\n",
    "dynModelFw.run()"
   ]
  },
  {
   "cell_type": "markdown",
   "metadata": {},
   "source": [
    "Although we didn't give the file extension, the script runs without errors. That is because the framework understands that if you use `self.readmap` in the `initial` section it will always be a static map with the `.map` file extension.\n",
    "\n",
    "It will also understand that if you use `self.readmap` in the `dynamic` section that it needs to look for PCRaster dynamic map stacks. These time series of maps have a naming convention: at least one alphabetic character followed by zeros until the total number of characters before the dot is eight. After the dot (the file extention part of the file name) it will have 001 for the first time step, 002 for the second, etc.\n",
    "\n",
    "In the `Data` folder you can find a PCRaster dynamic map stack for precipitation (mm/10 days). These are the following files for the 10 time steps of our model:\n",
    "```\n",
    "pr000000.001\n",
    "pr000000.002\n",
    "pr000000.003\n",
    "pr000000.004\n",
    "pr000000.005\n",
    "pr000000.006\n",
    "pr000000.007\n",
    "pr000000.008\n",
    "pr000000.009\n",
    "pr000000.010\n",
    "```\n",
    "\n",
    "Let's read them in the `dynamic` section and see if the script runs."
   ]
  },
  {
   "cell_type": "code",
   "execution_count": 27,
   "metadata": {},
   "outputs": [
    {
     "name": "stdout",
     "output_type": "stream",
     "text": [
      ".........."
     ]
    },
    {
     "data": {
      "text/plain": [
       "0"
      ]
     },
     "execution_count": 27,
     "metadata": {},
     "output_type": "execute_result"
    }
   ],
   "source": [
    "from pcraster import *\n",
    "from pcraster.framework import *\n",
    "\n",
    "class RunoffModel(DynamicModel):\n",
    "    def __init__(self, cloneMap):\n",
    "        DynamicModel.__init__(self)\n",
    "        setclone(cloneMap)\n",
    "    \n",
    "    def initial(self):\n",
    "        landuse = self.readmap(\"./Data/landuse\")\n",
    "        soil = self.readmap(\"./Data/soil\")\n",
    "    \n",
    "    def dynamic(self):\n",
    "        Precipitation = self.readmap(\"./Data/pr\") \n",
    "        #aguila(Precipitation) #Added to print each time step\n",
    "        \n",
    "myModel = RunoffModel(\"./Data/mask.map\")\n",
    "dynModelFw = DynamicFramework(myModel, lastTimeStep=10, firstTimestep=1)\n",
    "dynModelFw.run()"
   ]
  },
  {
   "cell_type": "markdown",
   "metadata": {},
   "source": [
    "The script runs without errors and both the static and dynamic maps have been read and we can use them in the script.\n",
    "\n",
    "Let's use a lookup table to create a map with the interception threshold from the land-use map. We'll use the land-use map from [FAO WaPOR](https://wapor.apps.fao.org/). In the `Data` folder you can find `d.tbl` which has the interception threshold for different land-use types.\n",
    "\n",
    "| Cell value | Land use | Interception threshold (mm)\n",
    "| ---------- | -------- | ---------------------------\n",
    "| 1 | Forest | 60\n",
    "| 2 | Bushland dense | 50\n",
    "| 3 | Woodland | 40\n",
    "| 4 | Bushland sparse | 40\n",
    "| 5 | Grassland | 10\n",
    "| 11 | Dense agriculture | 25\n",
    "| 12 | Sparse agriculture | 20\n",
    "| 13 | Plantation | 15\n",
    "\n",
    "\n",
    "We also write the result to disk using `self.report`."
   ]
  },
  {
   "cell_type": "code",
   "execution_count": 28,
   "metadata": {},
   "outputs": [
    {
     "name": "stdout",
     "output_type": "stream",
     "text": [
      ".........."
     ]
    },
    {
     "data": {
      "text/plain": [
       "0"
      ]
     },
     "execution_count": 28,
     "metadata": {},
     "output_type": "execute_result"
    }
   ],
   "source": [
    "from pcraster import *\n",
    "from pcraster.framework import *\n",
    "\n",
    "class RunoffModel(DynamicModel):\n",
    "    def __init__(self, cloneMap):\n",
    "        DynamicModel.__init__(self)\n",
    "        setclone(cloneMap)\n",
    "    \n",
    "    def initial(self):\n",
    "        landuse = self.readmap(\"./Data/landuse\")\n",
    "        soil = self.readmap(\"./Data/soil\")\n",
    "        self.InterceptionThreshold = lookupscalar(\"./Data/d.tbl\",landuse)\n",
    "        self.report(self.InterceptionThreshold,\"./Data/fd\")\n",
    "    \n",
    "    def dynamic(self):\n",
    "        Precipitation = self.readmap(\"./Data/pr\") \n",
    "        \n",
    "myModel = RunoffModel(\"./Data/mask.map\")\n",
    "dynModelFw = DynamicFramework(myModel, lastTimeStep=10, firstTimestep=1)\n",
    "dynModelFw.run()"
   ]
  },
  {
   "cell_type": "markdown",
   "metadata": {},
   "source": [
    "Visualise the land-use map and map with the interception threshold."
   ]
  },
  {
   "cell_type": "code",
   "execution_count": 34,
   "metadata": {},
   "outputs": [],
   "source": [
    "aguila(\"./Data/landuse.map\",\"./Data/fd.map\")"
   ]
  },
  {
   "cell_type": "code",
   "execution_count": 39,
   "metadata": {},
   "outputs": [],
   "source": [
    "n= readmap(\"./Data/fd.map\")\n",
    "aguila (nomi= nominal(n))\n",
    "interception_f= nominal(n)\n",
    "report(interception_f,\"./Data/fd_nominal\")"
   ]
  },
  {
   "cell_type": "markdown",
   "metadata": {},
   "source": [
    "Now we're a bit more familiar with the PCRaster Dynamic Modelling Framework we can start further developing the `initial` section of the model."
   ]
  },
  {
   "cell_type": "markdown",
   "metadata": {},
   "source": [
    "< [Introduction](Introduction.ipynb) | [Contents](Contents.ipynb) | [Prepare the initial section of the model](STREAM_Initial.ipynb) >"
   ]
  }
 ],
 "metadata": {
  "kernelspec": {
   "display_name": "Python 3",
   "language": "python",
   "name": "python3"
  },
  "language_info": {
   "codemirror_mode": {
    "name": "ipython",
    "version": 3
   },
   "file_extension": ".py",
   "mimetype": "text/x-python",
   "name": "python",
   "nbconvert_exporter": "python",
   "pygments_lexer": "ipython3",
   "version": "3.11.4"
  }
 },
 "nbformat": 4,
 "nbformat_minor": 4
}
