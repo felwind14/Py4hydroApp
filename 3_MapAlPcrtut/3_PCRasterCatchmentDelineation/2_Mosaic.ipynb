{
 "cells": [
  {
   "cell_type": "markdown",
   "metadata": {},
   "source": [
    "<!--NAVIGATION-->\n",
    "< [Introduction](Introduction_Catchment_Delineation.ipynb) | [Contents](ContentsCatchmentDelineation.ipynb) | [Reproject and Subset](reprojectAndSubset.ipynb) >"
   ]
  },
  {
   "cell_type": "markdown",
   "metadata": {},
   "source": [
    "# 2. Mosaic DEM tiles"
   ]
  },
  {
   "cell_type": "markdown",
   "metadata": {},
   "source": [
    "The first step is to mosaic the DEM tiles into one raster layer.\n",
    "\n",
    "Data used in this tutorial are in the `Data` folder. Let's set the path first."
   ]
  },
  {
   "cell_type": "code",
   "execution_count": 1,
   "metadata": {},
   "outputs": [
    {
     "name": "stdout",
     "output_type": "stream",
     "text": [
      "/mnt/c/Users/felip/OneDrive - Universidad Nacional de Colombia/2_Formation/DataSc/2_SpatialDS/3_PrGeoHydApp/1_IHEpy4hydroapp/3_MapAlPcrtut/3_PCRasterCatchmentDelineation/Data\n"
     ]
    }
   ],
   "source": [
    "import os\n",
    "os.chdir('./Data')\n",
    "print(os.getcwd())"
   ]
  },
  {
   "cell_type": "markdown",
   "metadata": {},
   "source": [
    "Now we can make a list of all GeoTIFF files in a folder. We use the <code>glob</code> module to find all files matching the <code>.tif</code> extension."
   ]
  },
  {
   "cell_type": "code",
   "execution_count": 20,
   "metadata": {},
   "outputs": [
    {
     "name": "stdout",
     "output_type": "stream",
     "text": [
      "['n50_e005_1arc_v3.tif', 'n50_e006_1arc_v3.tif', 'n51_e005_1arc_v3.tif', 'n51_e006_1arc_v3.tif']\n",
      "['n50_e005_1arc_v3.tif', 'n50_e006_1arc_v3.tif', 'n51_e005_1arc_v3.tif']\n"
     ]
    }
   ],
   "source": [
    "import glob\n",
    "from osgeo import gdal\n",
    "\n",
    "inputFiles = glob.glob('*.tif')\n",
    "print(inputFiles)\n"
   ]
  },
  {
   "cell_type": "markdown",
   "metadata": {},
   "source": [
    "As you see we've created a list of all the GeoTIFF files in the folder.\n",
    "Now we're going to use that list to create a mosaic in a virtual file (<code>.vrt</code>). A virtual file is very efficient in this case, because it doesn't recreate the wholde dataset, but just describes how the tiles are connected. We use <code>gdal.BuildVRT</code> for that, with the default settings. It only needs the output filename (<code>mosaic.vrt</code>) and the list of input files. We need to add <code>FlushCache()</code> to write the layer to disk."
   ]
  },
  {
   "cell_type": "code",
   "execution_count": 22,
   "metadata": {},
   "outputs": [
    {
     "data": {
      "text/plain": [
       "0"
      ]
     },
     "execution_count": 22,
     "metadata": {},
     "output_type": "execute_result"
    }
   ],
   "source": [
    "mosaic = gdal.BuildVRT('fmosaic.vrt', inputFiles)\n",
    "mosaic.FlushCache()\n"
   ]
  },
  {
   "cell_type": "code",
   "execution_count": 11,
   "metadata": {},
   "outputs": [
    {
     "name": "stderr",
     "output_type": "stream",
     "text": [
      "Exception in thread Thread-5:\n",
      "Traceback (most recent call last):\n",
      "  File \"/home/felwind14/miniconda3/envs/pcraster/lib/python3.11/threading.py\", line 1038, in _bootstrap_inner\n",
      "    self.run()\n",
      "  File \"/home/felwind14/miniconda3/envs/pcraster/lib/python3.11/site-packages/pcraster/aguila.py\", line 52, in run\n",
      "    argument_list = self.parse_arguments(self.arguments)\n",
      "                    ^^^^^^^^^^^^^^^^^^^^^^^^^^^^^^^^^^^^\n",
      "  File \"/home/felwind14/miniconda3/envs/pcraster/lib/python3.11/site-packages/pcraster/aguila.py\", line 28, in parse_arguments\n",
      "    assert isinstance(argument, (str, list, pcraster.Field)), \\\n",
      "AssertionError: <osgeo.gdal.Dataset; proxy of <Swig Object of type 'GDALDatasetShadow *' at 0x7f0d2d39bbd0> > has type <class 'osgeo.gdal.Dataset'>\n"
     ]
    }
   ],
   "source": []
  },
  {
   "cell_type": "markdown",
   "metadata": {},
   "source": [
    "You can now open the <code>mosaic.vrt</code> layer in QGIS to check the result."
   ]
  },
  {
   "cell_type": "markdown",
   "metadata": {},
   "source": [
    "The next step is to reproject and subset the mosaic so we have a smaller area to continue with."
   ]
  },
  {
   "cell_type": "markdown",
   "metadata": {},
   "source": [
    "<!--NAVIGATION-->\n",
    "< [Introduction](Introduction_Catchment_Delineation.ipynb) | [Contents](ContentsCatchmentDelineation.ipynb) | [Reproject and Subset](reprojectAndSubset.ipynb) >"
   ]
  }
 ],
 "metadata": {
  "kernelspec": {
   "display_name": "Python 3",
   "language": "python",
   "name": "python3"
  },
  "language_info": {
   "codemirror_mode": {
    "name": "ipython",
    "version": 3
   },
   "file_extension": ".py",
   "mimetype": "text/x-python",
   "name": "python",
   "nbconvert_exporter": "python",
   "pygments_lexer": "ipython3",
   "version": "3.11.4"
  }
 },
 "nbformat": 4,
 "nbformat_minor": 4
}
