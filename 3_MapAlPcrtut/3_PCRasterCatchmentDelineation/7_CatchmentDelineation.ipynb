{
 "cells": [
  {
   "cell_type": "markdown",
   "metadata": {},
   "source": [
    "<!--NAVIGATION-->\n",
    "< [Delineate streams](Streams.ipynb) | [Contents](ContentsCatchmentDelineation.ipynb) | [Automate stream and catchment delineation](AutomateDelineation.ipynb) >"
   ]
  },
  {
   "cell_type": "markdown",
   "metadata": {},
   "source": [
    "# 7. Catchment Delineation\n",
    "In this section we're going to delineate the catchment of an outlet and all catchments in the DEM.\n",
    "\n",
    "Let's first import the libraries and set the path to the data."
   ]
  },
  {
   "cell_type": "code",
   "execution_count": 1,
   "metadata": {},
   "outputs": [],
   "source": [
    "import os\n",
    "from pcraster import *\n",
    "os.chdir('./Data/')"
   ]
  },
  {
   "cell_type": "markdown",
   "metadata": {},
   "source": [
    "## 7.1 Delineate the catchment of a specific outlet\n",
    "\n",
    "First we need to identify an outlet on the delineated stream of the previous step. You can use the result from the Strahler order method or the flow accumulation method for finding the pixels that are part of the river. You can use QGIS or Aguila to find the coordinate. In Aguila you can do that using the crosshair tool.\n",
    "\n",
    "You can use the fields below to load the river map from the previous section, visualise with Aguila and find the coordinates of a pixel on the river map that we want to use as outlet for the catchment that we're going to delineate."
   ]
  },
  {
   "cell_type": "code",
   "execution_count": 2,
   "metadata": {},
   "outputs": [],
   "source": [
    "river = readmap(\"fstream8.map\")"
   ]
  },
  {
   "cell_type": "markdown",
   "metadata": {},
   "source": [
    "Visualise the river map"
   ]
  },
  {
   "cell_type": "code",
   "execution_count": 3,
   "metadata": {},
   "outputs": [],
   "source": [
    "aguila(river)"
   ]
  },
  {
   "cell_type": "markdown",
   "metadata": {},
   "source": [
    "Let's use 288880.648,5675880.258 as coordinates of the outlet.\n",
    "PCRaster comes with a tool <code>col2map</code>, which reads a textfile in the format:\n",
    "\n",
    "`x y id`\n",
    "\n",
    "and converts it to a PCRaster map. You can run the tool from the commandline, but here we're going to wrap it into a Python function. More info about the `col2map` tool can be found in the [PCRaster documentation](https://pcraster.geo.uu.nl/pcraster/4.3.0/documentation/pcraster_manual/sphinx/app_col2map.html)\n",
    "\n",
    "The tool has arguments for the data type and needs a clone map. In our case the outlet will be a nominal raster with one pixel that has an id number. For the clone we can use the river map."
   ]
  },
  {
   "cell_type": "code",
   "execution_count": 4,
   "metadata": {},
   "outputs": [
    {
     "name": "stdout",
     "output_type": "stream",
     "text": [
      "col2map -N flocation.txt flocation.map --clone fFlowAccumulation.map\n"
     ]
    },
    {
     "name": "stderr",
     "output_type": "stream",
     "text": [
      "col2map version: 4.4.0 (linux/x86_64)\n",
      "nr. of records read: 1\n",
      "nr. of records with mv value: 0\n",
      "nr. of records with mv (x,y): 0\n",
      "nr. of records outside map: 0\n"
     ]
    },
    {
     "name": "stderr",
     "output_type": "stream",
     "text": [
      "nr. of cells with mv: 7608485\n",
      "nr. of cells with more than one record: 0\n",
      "nr. of cells with majority conflict: 0\n"
     ]
    }
   ],
   "source": [
    "#inpired in gdal comand--> first text file with x y then col2map -N location.txt location.map --clone stream8.map\n",
    "\n",
    "def col2map(x,y,id,datatype,clone):\n",
    "    with open('flocation.txt', 'w') as f:\n",
    "        f.write(str(x) + ' ' + str(y) + ' ' + str(id))\n",
    "    cmd = 'col2map -{0} flocation.txt flocation.map --clone {1}'.format(datatype,clone)\n",
    "    print(cmd)\n",
    "    os.system(cmd)\n",
    "    Map = readmap('flocation.map')\n",
    "    return Map\n",
    "\n",
    "x = 288880.648  #point selected in QGIS\n",
    "y = 5675880.258\n",
    "id = 1\n",
    "datatype = 'N'\n",
    "clone = 'fFlowAccumulation.map'\n",
    "Outlet = col2map(x,y,id,datatype,clone)\n",
    "aguila(Outlet,river)"
   ]
  },
  {
   "cell_type": "markdown",
   "metadata": {},
   "source": [
    "The function creates a text file. We wrote a string with \"x y id\" to the file. Then the command was constructed as a string and we run the command string with <code>os.system</code>.\n",
    "\n",
    "We have also printed the command string after running the script. This command could be typed at the command prompt.\n",
    "\n",
    "Now we have the outlet defined in our delineated river, we can delineate the catchment that contributes to that outlet using the <code>catchment</code> operation. The <code>catchment</code> operation needs the flow direction map and the outlet map as input. More information about the <code>catchment</code> operation can be found in the [PCRaster documentation](https://pcraster.geo.uu.nl/pcraster/4.3.0/documentation/pcraster_manual/sphinx/op_catchment.html)."
   ]
  },
  {
   "cell_type": "code",
   "execution_count": 9,
   "metadata": {},
   "outputs": [],
   "source": [
    "FlowDirection = readmap('fflowdir.map')\n",
    "RurCatchment = catchment(FlowDirection,Outlet)\n",
    "\n",
    "report(RurCatchment,\"fRurCatchment.map\")"
   ]
  },
  {
   "cell_type": "markdown",
   "metadata": {},
   "source": [
    "Visualise the result with Aguila."
   ]
  },
  {
   "cell_type": "code",
   "execution_count": 6,
   "metadata": {},
   "outputs": [],
   "source": [
    "aguila(Outlet,RurCatchment)"
   ]
  },
  {
   "cell_type": "markdown",
   "metadata": {},
   "source": [
    "## 7.2 Delineate all catchments in the DEM\n",
    "\n",
    "That's the catchment of a specific outlet. If we want to automatically derive all catchments in the raster we need to find the pits first, which can be considered as outlets. This can be done with the <code>pit</code> operation. More information about the <code>pit</code> operation can be found in the [PCRaster documentation](https://pcraster.geo.uu.nl/pcraster/4.3.0/documentation/pcraster_manual/sphinx/op_pit.html). It only needs the flow direction map as input."
   ]
  },
  {
   "cell_type": "code",
   "execution_count": 7,
   "metadata": {},
   "outputs": [],
   "source": [
    "outlets = pit(FlowDirection)\n"
   ]
  },
  {
   "cell_type": "markdown",
   "metadata": {},
   "source": [
    "Visualise the result with Aguila."
   ]
  },
  {
   "cell_type": "code",
   "execution_count": 13,
   "metadata": {},
   "outputs": [],
   "source": [
    "aguila(outlets)"
   ]
  },
  {
   "cell_type": "markdown",
   "metadata": {},
   "source": [
    "*Where are the pits located?*\n",
    "\n",
    "*How many are there?*"
   ]
  },
  {
   "cell_type": "markdown",
   "metadata": {},
   "source": [
    "Now we can use those outlets in the <code>catchment</code> operation to derive all catchments in the raster."
   ]
  },
  {
   "cell_type": "code",
   "execution_count": 14,
   "metadata": {},
   "outputs": [],
   "source": [
    "Catchments = catchment(FlowDirection, outlets)"
   ]
  },
  {
   "cell_type": "markdown",
   "metadata": {},
   "source": [
    "Visualise the result with Aguila."
   ]
  },
  {
   "cell_type": "code",
   "execution_count": 15,
   "metadata": {},
   "outputs": [],
   "source": [
    "aguila(Catchments)"
   ]
  },
  {
   "cell_type": "markdown",
   "metadata": {},
   "source": [
    "*What do you see?*\n",
    "\n",
    "*Why are there so many catchments at the boundary of the area?*"
   ]
  },
  {
   "cell_type": "markdown",
   "metadata": {},
   "source": [
    "In the next section we're going to combine all code into one script to automate the process as much as possible."
   ]
  },
  {
   "cell_type": "markdown",
   "metadata": {},
   "source": [
    "<!--NAVIGATION-->\n",
    "< [Delineate streams](Streams.ipynb) | [Contents](ContentsCatchmentDelineation.ipynb) | [Automate stream and catchment delineation](AutomateDelineation.ipynb) >"
   ]
  }
 ],
 "metadata": {
  "kernelspec": {
   "display_name": "Python 3",
   "language": "python",
   "name": "python3"
  },
  "language_info": {
   "codemirror_mode": {
    "name": "ipython",
    "version": 3
   },
   "file_extension": ".py",
   "mimetype": "text/x-python",
   "name": "python",
   "nbconvert_exporter": "python",
   "pygments_lexer": "ipython3",
   "version": "3.11.4"
  }
 },
 "nbformat": 4,
 "nbformat_minor": 4
}
