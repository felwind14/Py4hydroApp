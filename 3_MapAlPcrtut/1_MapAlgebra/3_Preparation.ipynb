{
 "cells": [
  {
   "cell_type": "markdown",
   "metadata": {},
   "source": [
    "<!--NAVIGATION-->\n",
    "< [Introduction](Introduction.ipynb) | [Contents](Contents.ipynb) | [Condition 1](Condition_1.ipynb) >"
   ]
  },
  {
   "cell_type": "markdown",
   "metadata": {},
   "source": [
    "# 2. Preparation\n",
    "## 2.1 Introduction\n",
    "For this task you are provided with the following raster layers: `buildg.tif`, `roads.tif`, `dtm.tif`, and `gwlevel.tif`. You can find these files in the `data` folder.\n",
    "\n",
    "To work with PCRaster we need to convert the files to the PCRaster format. You can do that from the command line using the GDAL commands. Here we'll do the conversion with the GDAL Python library.\n",
    "\n",
    "## 2.2 Convert rasters with GDAL\n",
    "\n",
    "Let's convert the `buildg.tif` file.\n",
    "First we import `gdal` and `gdalconst` from the `osgeo` library:"
   ]
  },
  {
   "cell_type": "code",
   "execution_count": null,
   "metadata": {},
   "outputs": [],
   "source": [
    "#Z_1tiff2PCraster and Z_2getRaster --> for automating data preparation"
   ]
  },
  {
   "cell_type": "code",
   "execution_count": 21,
   "metadata": {},
   "outputs": [],
   "source": [
    "from osgeo import gdal, gdalconst\n",
    "from pcraster import *"
   ]
  },
  {
   "cell_type": "markdown",
   "metadata": {},
   "source": []
  },
  {
   "cell_type": "markdown",
   "metadata": {},
   "source": [
    "Then we read the GeoTIFF from our `data` folder."
   ]
  },
  {
   "cell_type": "code",
   "execution_count": 22,
   "metadata": {},
   "outputs": [],
   "source": [
    "src_ds = gdal.Open( \"data/buildg.tif\" )"
   ]
  },
  {
   "cell_type": "code",
   "execution_count": 23,
   "metadata": {},
   "outputs": [
    {
     "data": {
      "image/png": "[encoded data removed]",
      "text/plain": [
       "<Figure size 640x480 with 1 Axes>"
      ]
     },
     "metadata": {},
     "output_type": "display_data"
    }
   ],
   "source": [
    "#ploting with gdal -->FF\n",
    "import matplotlib.pyplot as plt\n",
    "\n",
    "band = src_ds.GetRasterBand(1)\n",
    "data = band.ReadAsArray()\n",
    "plt.imshow(data)\n",
    "plt.show()"
   ]
  },
  {
   "cell_type": "code",
   "execution_count": 24,
   "metadata": {},
   "outputs": [],
   "source": [
    "#To see the image you need geopandas, rasterio or just aguila build.tif(cmd) --FF\n",
    "#python pcraster\n",
    "\n",
    "#toibe found"
   ]
  },
  {
   "cell_type": "markdown",
   "metadata": {},
   "source": [
    "Next we can use the Python equivalent of [`gdal_translate`](https://gdal.org/programs/gdal_translate.html#gdal-translate): `Translate`. We need to use the name of the format. See [GDAL Raster drivers (short name)](https://gdal.org/drivers/raster/index.html) for formats. In our case the output format is `PCRaster`.\n",
    "\n",
    "We also need to define the data type of the output.\n",
    "\n",
    "PCRaster uses data typing of the data in the database: each map has one of the six data types used attached to it. These data types help you and PCRaster to structure the data. See the table below.<br>\n",
    "\n",
    "| data type | description of attributes | domain | example |\n",
    "|:-------:|:-------:|:-------:|:-------:|\n",
    "| boolean | boolean | 0 (FALSE),<br> 1 (TRUE) | suitable/unsuitable, visible/non visible |\n",
    "| nominal |\tclassified, no order | whole values | soil classes |\n",
    "| ordinal | classified, order | whole values | succession stages, income groups |\n",
    "| scalar | continuous, linear | real values | temperature, concentration |\n",
    "| directional | continuous, directional | 0 to 360 degrees | aspect |\n",
    "| ldd | direction to neighbour cell | codes of directions | drainage networks |\n",
    "\n",
    "In the arguments of `Translate` you need to define the `outputType` and `metadataOptions` based on the table below. Note that we can only convert boolean, nominal and scalar rasters. The ldd and directional rasters are created within PCRaster. For scalar we can use Float 32 or Float 64, depending on the desired precision.\n",
    "\n",
    "| data type | `outputType` | `metadataOptions` |\n",
    "|:-------:|:-------:|:-------:|\n",
    "| boolean | `gdalconst.GDT_Byte` | `'VS_BOOLEAN'`|\n",
    "| nominal | `gdalconst.GDT_Int32` | `'VS_NOMINAL'`|\n",
    "| scalar | `gdalconst.GDT_Float32` | `'VS_SCALAR'`|\n",
    "| scalar | `gdalconst.GDT_Float64` | `'VS_SCALAR'`|\n",
    "\n",
    "`buildg.tif` is a nominal raster. It contains classes. Therefore the code we'll use for `Translate` is:"
   ]
  },
  {
   "cell_type": "code",
   "execution_count": 25,
   "metadata": {},
   "outputs": [],
   "source": [
    "dst_ds = gdal.Translate('data/buildg.map', src_ds, format='PCRaster', \\\n",
    "                        outputType=gdalconst.GDT_Int32, metadataOptions='VS_NOMINAL')"
   ]
  },
  {
   "cell_type": "markdown",
   "metadata": {},
   "source": [
    "And we properly close the datasets to flush to disk:"
   ]
  },
  {
   "cell_type": "code",
   "execution_count": 26,
   "metadata": {},
   "outputs": [],
   "source": [
    "dst_ds = None\n",
    "src_ds = None"
   ]
  },
  {
   "cell_type": "markdown",
   "metadata": {},
   "source": [
    "Now you can find the file `buildg.map` on your hard disk. Check if that's the case if you're running this notebook locally.\n",
    "\n",
    "Let's apply the same code to the other files `dtm.tif`, `roads.tif` and `gwlevel.tif`. In this case it's easier to write it as a function."
   ]
  },
  {
   "cell_type": "code",
   "execution_count": 27,
   "metadata": {},
   "outputs": [],
   "source": [
    "#Import gdal\n",
    "from osgeo import gdal\n",
    "\n",
    "def ConvertToPCRaster(src_filename,dst_filename,ot,VS):\n",
    "    #Open existing dataset\n",
    "    src_ds = gdal.Open(src_filename)\n",
    "    \n",
    "    #GDAL Translate\n",
    "    dst_ds = gdal.Translate(dst_filename, src_ds, format='PCRaster', outputType=ot, metadataOptions=VS)\n",
    "    \n",
    "    #Properly close the datasets to flush to disk\n",
    "    dst_ds = None\n",
    "    src_ds = None\n",
    "    \n",
    "ConvertToPCRaster(\"data/buildg.tif\",\"data/buildg.map\",gdalconst.GDT_Int32,\"VS_NOMINAL\")\n",
    "ConvertToPCRaster(\"data/roads.tif\",\"data/roads.map\",gdalconst.GDT_Int32,\"VS_NOMINAL\")\n",
    "ConvertToPCRaster(\"data/gwlevel.tif\",\"data/gwlevel.map\",gdalconst.GDT_Float32,\"VS_SCALAR\")\n",
    "ConvertToPCRaster(\"data/dtm.tif\",\"data/dtm.map\",gdalconst.GDT_Float32,\"VS_SCALAR\")"
   ]
  },
  {
   "cell_type": "markdown",
   "metadata": {},
   "source": [
    "## 2.3 Inspecting the data\n",
    "For map algebra the properties of all raster layers used in calculations need to be the same.\n",
    "Let's find out if they have the same number of rows and columns, coordinates and pixel size.\n",
    "\n",
    "Let's open a PCRaster file with GDAL."
   ]
  },
  {
   "cell_type": "code",
   "execution_count": 28,
   "metadata": {},
   "outputs": [],
   "source": [
    "RasterLayer = gdal.Open(\"data/dtm.map\")"
   ]
  },
  {
   "cell_type": "markdown",
   "metadata": {},
   "source": [
    "To get the numbers of rows and columns we can use the GDAL functions `RasterXSize` and `RasterYSize`.\n",
    "`RasterLayer.GetDescription()` gives the relative path of the layer."
   ]
  },
  {
   "cell_type": "code",
   "execution_count": 29,
   "metadata": {},
   "outputs": [
    {
     "name": "stdout",
     "output_type": "stream",
     "text": [
      "data/dtm.map has 60 columns and 60 rows\n"
     ]
    }
   ],
   "source": [
    "Path = RasterLayer.GetDescription()\n",
    "NrColumns = RasterLayer.RasterXSize\n",
    "NrRows = RasterLayer.RasterYSize\n",
    "print('{} has {} columns and {} rows'.format(Path,NrColumns,NrRows ))"
   ]
  },
  {
   "cell_type": "markdown",
   "metadata": {},
   "source": [
    "To know the coordinates and pixel size we can use `GetGeoTransform` from GDAL.\n",
    "It returns a tuple with the following information:\n",
    "\n",
    "`RasterLayer.GetGeoTransform[0]`: Top left X coordinate\n",
    "\n",
    "`RasterLayer.GetGeoTransform[1]`: West-East pixel resolution\n",
    "\n",
    "`RasterLayer.GetGeoTransform[2]`: Rotation, 0 for \"north up\"\n",
    "\n",
    "`RasterLayer.GetGeoTransform[3]`: Top left Y coordinate\n",
    "\n",
    "`RasterLayer.GetGeoTransform[4]`: Rotation, 0 for \"north up\"\n",
    "\n",
    "`RasterLayer.GetGeoTransform[5]`: North-South pixel resolution (negative)"
   ]
  },
  {
   "cell_type": "code",
   "execution_count": 30,
   "metadata": {},
   "outputs": [
    {
     "data": {
      "text/plain": [
       "(288674.671, 50.0, 0.0, 3352810.143, 0.0, -50.0)"
      ]
     },
     "execution_count": 30,
     "metadata": {},
     "output_type": "execute_result"
    }
   ],
   "source": [
    "RasterLayer.GetGeoTransform()"
   ]
  },
  {
   "cell_type": "markdown",
   "metadata": {},
   "source": [
    "Let's present that more readable."
   ]
  },
  {
   "cell_type": "code",
   "execution_count": 31,
   "metadata": {},
   "outputs": [
    {
     "name": "stdout",
     "output_type": "stream",
     "text": [
      "Origin = (288674.671, 3352810.143)\n",
      "Pixel Size = (50.0, -50.0)\n"
     ]
    }
   ],
   "source": [
    "print(\"Origin = ({}, {})\".format(RasterLayer.GetGeoTransform()[0], RasterLayer.GetGeoTransform()[3]))\n",
    "print(\"Pixel Size = ({}, {})\".format(RasterLayer.GetGeoTransform()[1],RasterLayer.GetGeoTransform()[5]))"
   ]
  },
  {
   "cell_type": "markdown",
   "metadata": {},
   "source": [
    "We can also use GDAL to get the projection information. The PCRaster format doesn't store the projection information, but when we converted the rasters it saves an XML file with the projection info. The GDAL function is `GetProjection()`."
   ]
  },
  {
   "cell_type": "code",
   "execution_count": 33,
   "metadata": {},
   "outputs": [
    {
     "data": {
      "text/plain": [
       "'PROJCS[\"WGS 84 / UTM zone 30N\",GEOGCS[\"WGS 84\",DATUM[\"WGS_1984\",SPHEROID[\"WGS 84\",6378137,298.257223563,AUTHORITY[\"EPSG\",\"7030\"]],AUTHORITY[\"EPSG\",\"6326\"]],PRIMEM[\"Greenwich\",0,AUTHORITY[\"EPSG\",\"8901\"]],UNIT[\"degree\",0.0174532925199433,AUTHORITY[\"EPSG\",\"9122\"]],AUTHORITY[\"EPSG\",\"4326\"]],PROJECTION[\"Transverse_Mercator\"],PARAMETER[\"latitude_of_origin\",0],PARAMETER[\"central_meridian\",-3],PARAMETER[\"scale_factor\",0.9996],PARAMETER[\"false_easting\",500000],PARAMETER[\"false_northing\",0],UNIT[\"metre\",1,AUTHORITY[\"EPSG\",\"9001\"]],AXIS[\"Easting\",EAST],AXIS[\"Northing\",NORTH],AUTHORITY[\"EPSG\",\"32630\"]]'"
      ]
     },
     "execution_count": 33,
     "metadata": {},
     "output_type": "execute_result"
    }
   ],
   "source": [
    "RasterLayer.GetProjection()"
   ]
  },
  {
   "cell_type": "markdown",
   "metadata": {},
   "source": [
    "That gives us a string in the OGC WKT format.\n",
    "In order to make the projection and the units readable, we need to parse the OGC WKT string. For that we'll use the [PyCRS](https://pypi.org/project/PyCRS/) library. \n",
    "\n",
    "If it's not installed yet if you run this notebook locally, you can install the library by typing the following at the Anaconda prompt:\n",
    "\n",
    "`conda install -c conda-forge pycrs`\n",
    "\n",
    "First we import the library and save the OGC WKT string in a variable that we parse."
   ]
  },
  {
   "cell_type": "code",
   "execution_count": 36,
   "metadata": {},
   "outputs": [],
   "source": [
    "import pycrs\n",
    "RasterLayerProjection = RasterLayer.GetProjection()\n",
    "\n",
    "# Parse OGC WKT string\n",
    "crs = pycrs.parse.from_ogc_wkt(RasterLayerProjection)"
   ]
  },
  {
   "cell_type": "markdown",
   "metadata": {},
   "source": [
    "We can check if it is a projected coordinate system:"
   ]
  },
  {
   "cell_type": "code",
   "execution_count": 37,
   "metadata": {},
   "outputs": [
    {
     "data": {
      "text/plain": [
       "True"
      ]
     },
     "execution_count": 37,
     "metadata": {},
     "output_type": "execute_result"
    }
   ],
   "source": [
    "isinstance(crs, pycrs.ProjCS)"
   ]
  },
  {
   "cell_type": "markdown",
   "metadata": {},
   "source": [
    "The result is `True` so we're not dealing with a Geographical Coordinate System.\n",
    "Let's get the name of the projection."
   ]
  },
  {
   "cell_type": "code",
   "execution_count": 38,
   "metadata": {},
   "outputs": [
    {
     "name": "stdout",
     "output_type": "stream",
     "text": [
      "WGS 84 / UTM zone 30N\n"
     ]
    }
   ],
   "source": [
    "ProjectionName = crs.name\n",
    "print(ProjectionName)"
   ]
  },
  {
   "cell_type": "markdown",
   "metadata": {},
   "source": [
    "We can also get the units of the projection:"
   ]
  },
  {
   "cell_type": "code",
   "execution_count": 39,
   "metadata": {},
   "outputs": [
    {
     "name": "stdout",
     "output_type": "stream",
     "text": [
      "Meters\n"
     ]
    }
   ],
   "source": [
    "ProjectionUnits = crs.unit.unitname.ogc_wkt\n",
    "print(ProjectionUnits)"
   ]
  },
  {
   "cell_type": "markdown",
   "metadata": {},
   "source": [
    "Finally it would be useful to get some statistics from the raster layer. Let's calculate the minimum and maximum value.\n",
    "Because raster layers can have multiple bands we need to select the band. In our case we have a single band raster layer, so we have to choose band 1."
   ]
  },
  {
   "cell_type": "code",
   "execution_count": 42,
   "metadata": {},
   "outputs": [
    {
     "data": {
      "text/plain": [
       "<osgeo.gdal.Band; proxy of <Swig Object of type 'GDALRasterBandShadow *' at 0x7fcd73499680> >"
      ]
     },
     "execution_count": 42,
     "metadata": {},
     "output_type": "execute_result"
    }
   ],
   "source": [
    "RasterLayerBand = RasterLayer.GetRasterBand(1)\n",
    "RasterLayerBand"
   ]
  },
  {
   "cell_type": "markdown",
   "metadata": {},
   "source": [
    "Now we can calculate the minumum and maximum value of the band using respectively `GetMinimum` and `GetMaximum`."
   ]
  },
  {
   "cell_type": "code",
   "execution_count": 41,
   "metadata": {},
   "outputs": [
    {
     "name": "stdout",
     "output_type": "stream",
     "text": [
      "Minimum:  201.0\n",
      "Maximum:  298.0\n"
     ]
    }
   ],
   "source": [
    "RasterLayerMinimum = RasterLayerBand.GetMinimum()\n",
    "RasterLayerMaximum = RasterLayerBand.GetMaximum()\n",
    "print(\"Minimum: \", RasterLayerMinimum)\n",
    "print(\"Maximum: \", RasterLayerMaximum)"
   ]
  },
  {
   "cell_type": "markdown",
   "metadata": {},
   "source": [
    "Let's write this in a function and get the raster layer properties for all the raster layers so we can compare."
   ]
  },
  {
   "cell_type": "code",
   "execution_count": 43,
   "metadata": {},
   "outputs": [
    {
     "name": "stdout",
     "output_type": "stream",
     "text": [
      "Raster file: data/dtm.map\n",
      "Driver: PCRaster/PCRaster Raster File\n",
      "Size is 60 x 60 x 1\n",
      "Projection: WGS 84 / UTM zone 30N\n",
      "Map units: Meters\n",
      "Origin = (288674.671, 3352810.143)\n",
      "Pixel Size = (50.0 Meters, -50.0 Meters)\n",
      "Minimum: 201.0\n",
      "Maximum: 298.0\n",
      "\n",
      "Raster file: data/buildg.map\n",
      "Driver: PCRaster/PCRaster Raster File\n",
      "Size is 60 x 60 x 1\n",
      "Projection: WGS 84 / UTM zone 30N\n",
      "Map units: Meters\n",
      "Origin = (288674.671, 3352810.143)\n",
      "Pixel Size = (50.0 Meters, -50.0 Meters)\n",
      "Minimum: 0.0\n",
      "Maximum: 5.0\n",
      "\n",
      "Raster file: data/roads.map\n",
      "Driver: PCRaster/PCRaster Raster File\n",
      "Size is 60 x 60 x 1\n",
      "Projection: WGS 84 / UTM zone 30N\n",
      "Map units: Meters\n",
      "Origin = (288674.671, 3352810.143)\n",
      "Pixel Size = (50.0 Meters, -50.0 Meters)\n",
      "Minimum: 0.0\n",
      "Maximum: 2.0\n",
      "\n",
      "Raster file: data/gwlevel.map\n",
      "Driver: PCRaster/PCRaster Raster File\n",
      "Size is 60 x 60 x 1\n",
      "Projection: WGS 84 / UTM zone 30N\n",
      "Map units: Meters\n",
      "Origin = (288674.671, 3352810.143)\n",
      "Pixel Size = (50.0 Meters, -50.0 Meters)\n",
      "Minimum: 127.98716735839844\n",
      "Maximum: 274.8428955078125\n",
      "\n"
     ]
    }
   ],
   "source": [
    "from osgeo import gdal\n",
    "import pycrs\n",
    "\n",
    "def RasterLayerProperties(RasterLayer):\n",
    "    print(\"Raster file: {}\".format(RasterLayer.GetDescription()))\n",
    "    print(\"Driver: {}/{}\".format(RasterLayer.GetDriver().ShortName,\n",
    "                            RasterLayer.GetDriver().LongName))\n",
    "    print(\"Size is {} x {} x {}\".format(RasterLayer.RasterXSize,\n",
    "                                    RasterLayer.RasterYSize,\n",
    "                                    RasterLayer.RasterCount))\n",
    "    RasterLayerProjection = RasterLayer.GetProjection()\n",
    "    crs = pycrs.parse.from_ogc_wkt(RasterLayerProjection)\n",
    "    print(\"Projection:\",crs.name)\n",
    "    print(\"Map units:\",crs.unit.unitname.ogc_wkt)\n",
    "    geotransform = RasterLayer.GetGeoTransform()\n",
    "    if geotransform:\n",
    "        print(\"Origin = ({}, {})\".format(geotransform[0], geotransform[3]))\n",
    "        print(\"Pixel Size = ({} {}, {} {})\".format(geotransform[1],crs.unit.unitname.ogc_wkt, \\\n",
    "                                                   geotransform[5],crs.unit.unitname.ogc_wkt))\n",
    "        \n",
    "    RasterLayerBand = RasterLayer.GetRasterBand(1)\n",
    "    print(\"Minimum: {}\".format(RasterLayerBand.GetMinimum()))\n",
    "    print(\"Maximum: {}\".format(RasterLayerBand.GetMaximum()))\n",
    "    \n",
    "    print()\n",
    "    RasterLayer = None\n",
    "    \n",
    "    \n",
    "DTMLayer = gdal.Open( \"data/dtm.map\" )\n",
    "RasterLayerProperties(DTMLayer)\n",
    "\n",
    "BuildgLayer = gdal.Open( \"data/buildg.map\" )\n",
    "RasterLayerProperties(BuildgLayer)\n",
    "\n",
    "RoadsLayer = gdal.Open( \"data/roads.map\" )\n",
    "RasterLayerProperties(RoadsLayer)\n",
    "\n",
    "GWLevelLayer = gdal.Open( \"data/gwlevel.map\" )\n",
    "RasterLayerProperties(GWLevelLayer)"
   ]
  },
  {
   "cell_type": "code",
   "execution_count": 22,
   "metadata": {},
   "outputs": [
    {
     "data": {
      "text/plain": [
       "[201.0, 298.0, 253.37611111111, 18.904913717188]"
      ]
     },
     "execution_count": 22,
     "metadata": {},
     "output_type": "execute_result"
    }
   ],
   "source": [
    "#Minimum=%.3f, Maximum=%.3f, Mean=%.3f, StdDev=%.3f\" % ( \\stats[0], stats[1], stats[2], stats[3]\n",
    "stats = RasterLayerBand.GetStatistics(False, True) \n",
    "stats"
   ]
  },
  {
   "cell_type": "code",
   "execution_count": 23,
   "metadata": {},
   "outputs": [
    {
     "name": "stdout",
     "output_type": "stream",
     "text": [
      "min = 201.00 max = 298.00 mean = 253.38 std = 18.90\n",
      "No data value: -3.4028234663852886e+38\n"
     ]
    }
   ],
   "source": [
    "#BAnd dataset info GFM Material\n",
    "\n",
    "print(\"min = %.2f max = %.2f mean = %.2f std = %.2f\" % (stats[0], stats[1], stats[2], stats[3]))\n",
    "print(f'No data value: {RasterLayerBand.GetNoDataValue()}')"
   ]
  },
  {
   "cell_type": "code",
   "execution_count": 44,
   "metadata": {},
   "outputs": [
    {
     "name": "stdout",
     "output_type": "stream",
     "text": [
      "<class 'numpy.ndarray'>\n",
      "shape (60, 60)\n",
      "pixelvalue 272.0\n",
      "Raster data: \n",
      " [[272. 270. 269. ... 245. 245. 245.]\n",
      " [273. 271. 269. ... 246. 246. 246.]\n",
      " [280. 274. 270. ... 249. 249. 249.]\n",
      " ...\n",
      " [237. 240. 242. ... 254. 254. 255.]\n",
      " [232. 237. 241. ... 253. 256. 256.]\n",
      " [231. 234. 239. ... 253. 255. 257.]]\n"
     ]
    }
   ],
   "source": [
    "#Experimenting with GFM material\n",
    "\n",
    "from osgeo import gdal\n",
    "from osgeo import gdal_array as gdarr\n",
    "import numpy as np\n",
    "\n",
    "\n",
    "\n",
    "px = RasterLayerBand.ReadAsArray()\n",
    "if px is not None:\n",
    "    print(type(px))\n",
    "    print('shape', px.shape)\n",
    "    print('pixelvalue', px[0,0]) #value in0,0\n",
    "    print('Raster data: \\n', px)\n",
    "\n",
    "   \n",
    "\n"
   ]
  },
  {
   "cell_type": "code",
   "execution_count": 50,
   "metadata": {},
   "outputs": [
    {
     "data": {
      "image/png": "[encoded data removed]",
      "text/plain": [
       "<Figure size 640x480 with 1 Axes>"
      ]
     },
     "metadata": {},
     "output_type": "display_data"
    }
   ],
   "source": [
    "##Ploting \n",
    "\n",
    "import matplotlib.pyplot as plt\n",
    "#Now passing as an array and printing \n",
    "# use 0;0 for the topleft pixel; -1; -1 for the bottomright\n",
    "xoff = -1\n",
    "yoff = -1\n",
    "\n",
    "# use 1-1 to extract a single pixel, otherwise extract multiple pixels\n",
    "win_xsize = 60\n",
    "win_ysize = 60  \n",
    "\n",
    "px = gdarr.BandReadAsArray(RasterLayerBand, xoff, yoff, win_xsize, win_ysize)\n",
    "px[px == -9999] = None # or just use band.GetNoDataValue()\n",
    "plt.imshow(px)\n",
    "plt.show()"
   ]
  },
  {
   "cell_type": "code",
   "execution_count": 45,
   "metadata": {},
   "outputs": [
    {
     "name": "stdout",
     "output_type": "stream",
     "text": [
      "<class 'numpy.ndarray'>\n",
      "shape (30, 30)\n",
      "topleft 272.0\n",
      "bottomright 257.0\n"
     ]
    }
   ],
   "source": [
    "#extract a subset\n",
    "##################\n",
    "\n",
    "# use 0;0 for the topleft pixel; -1; -1 for the bottomright\n",
    "xoff = -1\n",
    "yoff = -1\n",
    "\n",
    "# use 1-1 to extract a single pixel, otherwise extract multiple pixels\n",
    "win_xsize = 30\n",
    "win_ysize = 30\n",
    "\n",
    "# read a single band as a 2D array\n",
    "px = gdarr.BandReadAsArray(RasterLayerBand, xoff, yoff, win_xsize, win_ysize)\n",
    "print(type(px))\n",
    "print('shape', px.shape)\n",
    "\n",
    "# use 0;0 for the topleft pixel; -1; -1 for the bottomright\n",
    "print('topleft', px[0,0])\n",
    "print('bottomright', px[-1,-1])\n"
   ]
  },
  {
   "cell_type": "code",
   "execution_count": 46,
   "metadata": {},
   "outputs": [
    {
     "data": {
      "image/png": "[encoded data removed]",
      "text/plain": [
       "<Figure size 640x480 with 1 Axes>"
      ]
     },
     "metadata": {},
     "output_type": "display_data"
    }
   ],
   "source": [
    "#Ploting the subset\n",
    "\n",
    "import matplotlib.pyplot as plt\n",
    "\n",
    "# use 0;0 for the topleft pixel; columns-1; rows-1 for the bottomright\n",
    "xoff = 0\n",
    "yoff = 0\n",
    "# use 1-1 to extract a single pixel, otherwise extract multiple pixels\n",
    "win_xsize = 30\n",
    "win_ysize = 30\n",
    "\n",
    "px = gdarr.BandReadAsArray(RasterLayerBand, xoff, yoff, win_xsize, win_ysize)\n",
    "px[px == -9999] = None # or just use band.GetNoDataValue()\n",
    "plt.imshow(px)\n",
    "plt.show()"
   ]
  },
  {
   "cell_type": "markdown",
   "metadata": {},
   "source": []
  },
  {
   "cell_type": "code",
   "execution_count": 86,
   "metadata": {},
   "outputs": [
    {
     "name": "stdout",
     "output_type": "stream",
     "text": [
      "/mnt/c/Users/felip/OneDrive - Universidad Nacional de Colombia/2_Formation/DataSc/2_SpatialDS/3_PrGeoHydApp/1_IHE_py4hydro/3_MapAlPcrtut/1_MapAlgebra\n"
     ]
    }
   ],
   "source": [
    "print(os.getcwd())"
   ]
  },
  {
   "cell_type": "code",
   "execution_count": 89,
   "metadata": {},
   "outputs": [
    {
     "ename": "FileNotFoundError",
     "evalue": "[Errno 2] No such file or directory: 'py'",
     "output_type": "error",
     "traceback": [
      "\u001b[0;31m---------------------------------------------------------------------------\u001b[0m",
      "\u001b[0;31mFileNotFoundError\u001b[0m                         Traceback (most recent call last)",
      "Cell \u001b[0;32mIn[89], line 21\u001b[0m\n\u001b[1;32m     19\u001b[0m data_dir\u001b[39m=\u001b[39m\u001b[39m'\u001b[39m\u001b[39m/mnt/c/Users/felip/OneDrive - Universidad Nacional de Colombia/2_Formation/DataSc/2_SpatialDS/3_PrGeoHydApp/1_IHE_py4hydro/3_MapAlPcrtut/1_MapAlgebra/data\u001b[39m\u001b[39m'\u001b[39m\n\u001b[1;32m     20\u001b[0m os\u001b[39m.\u001b[39mchdir(data_dir)\n\u001b[0;32m---> 21\u001b[0m run_script([Directory \u001b[39m+\u001b[39;49m \u001b[39m\"\u001b[39;49m\u001b[39m/gdal2xyz.py\u001b[39;49m\u001b[39m\"\u001b[39;49m, \u001b[39m\"\u001b[39;49m\u001b[39m-csv\u001b[39;49m\u001b[39m\"\u001b[39;49m,\u001b[39m'\u001b[39;49m\u001b[39m-b\u001b[39;49m\u001b[39m'\u001b[39;49m,\u001b[39m'\u001b[39;49m\u001b[39m1\u001b[39;49m\u001b[39m'\u001b[39;49m, \u001b[39m'\u001b[39;49m\u001b[39mfdtm.map\u001b[39;49m\u001b[39m'\u001b[39;49m,\u001b[39m'\u001b[39;49m\u001b[39mfdem.csv\u001b[39;49m\u001b[39m'\u001b[39;49m])\n\u001b[1;32m     22\u001b[0m \u001b[39mprint\u001b[39m (\u001b[39m\"\u001b[39m\u001b[39mDone\u001b[39m\u001b[39m\"\u001b[39m)\n\u001b[1;32m     25\u001b[0m \u001b[39m# import os\u001b[39;00m\n\u001b[1;32m     26\u001b[0m \u001b[39m# import subprocess\u001b[39;00m\n\u001b[1;32m     27\u001b[0m \n\u001b[0;32m   (...)\u001b[0m\n\u001b[1;32m     48\u001b[0m \u001b[39m# run_script([python_interpreter, script_path, \"-csv\", \"-b\", \"1\", \"fdtm.map\", \"fdem.csv\"])\u001b[39;00m\n\u001b[1;32m     49\u001b[0m \u001b[39m# print(\"Done\")\u001b[39;00m\n",
      "Cell \u001b[0;32mIn[89], line 11\u001b[0m, in \u001b[0;36mrun_script\u001b[0;34m(params)\u001b[0m\n\u001b[1;32m      9\u001b[0m \u001b[39mimport\u001b[39;00m \u001b[39msubprocess\u001b[39;00m\n\u001b[1;32m     10\u001b[0m params\u001b[39m.\u001b[39minsert(\u001b[39m0\u001b[39m,\u001b[39m\"\u001b[39m\u001b[39mpy\u001b[39m\u001b[39m\"\u001b[39m)\n\u001b[0;32m---> 11\u001b[0m p \u001b[39m=\u001b[39m subprocess\u001b[39m.\u001b[39;49mPopen(params, stdout\u001b[39m=\u001b[39;49msubprocess\u001b[39m.\u001b[39;49mPIPE, stderr\u001b[39m=\u001b[39;49msubprocess\u001b[39m.\u001b[39;49mPIPE)\n\u001b[1;32m     12\u001b[0m out, err \u001b[39m=\u001b[39m p\u001b[39m.\u001b[39mcommunicate()\n\u001b[1;32m     13\u001b[0m \u001b[39mif\u001b[39;00m \u001b[39mbytes\u001b[39m\u001b[39m.\u001b[39mdecode(err) \u001b[39m!=\u001b[39m \u001b[39m'\u001b[39m\u001b[39m'\u001b[39m:\n",
      "File \u001b[0;32m~/miniconda3/envs/pcraster/lib/python3.11/subprocess.py:1026\u001b[0m, in \u001b[0;36mPopen.__init__\u001b[0;34m(self, args, bufsize, executable, stdin, stdout, stderr, preexec_fn, close_fds, shell, cwd, env, universal_newlines, startupinfo, creationflags, restore_signals, start_new_session, pass_fds, user, group, extra_groups, encoding, errors, text, umask, pipesize, process_group)\u001b[0m\n\u001b[1;32m   1022\u001b[0m         \u001b[39mif\u001b[39;00m \u001b[39mself\u001b[39m\u001b[39m.\u001b[39mtext_mode:\n\u001b[1;32m   1023\u001b[0m             \u001b[39mself\u001b[39m\u001b[39m.\u001b[39mstderr \u001b[39m=\u001b[39m io\u001b[39m.\u001b[39mTextIOWrapper(\u001b[39mself\u001b[39m\u001b[39m.\u001b[39mstderr,\n\u001b[1;32m   1024\u001b[0m                     encoding\u001b[39m=\u001b[39mencoding, errors\u001b[39m=\u001b[39merrors)\n\u001b[0;32m-> 1026\u001b[0m     \u001b[39mself\u001b[39;49m\u001b[39m.\u001b[39;49m_execute_child(args, executable, preexec_fn, close_fds,\n\u001b[1;32m   1027\u001b[0m                         pass_fds, cwd, env,\n\u001b[1;32m   1028\u001b[0m                         startupinfo, creationflags, shell,\n\u001b[1;32m   1029\u001b[0m                         p2cread, p2cwrite,\n\u001b[1;32m   1030\u001b[0m                         c2pread, c2pwrite,\n\u001b[1;32m   1031\u001b[0m                         errread, errwrite,\n\u001b[1;32m   1032\u001b[0m                         restore_signals,\n\u001b[1;32m   1033\u001b[0m                         gid, gids, uid, umask,\n\u001b[1;32m   1034\u001b[0m                         start_new_session, process_group)\n\u001b[1;32m   1035\u001b[0m \u001b[39mexcept\u001b[39;00m:\n\u001b[1;32m   1036\u001b[0m     \u001b[39m# Cleanup if the child failed starting.\u001b[39;00m\n\u001b[1;32m   1037\u001b[0m     \u001b[39mfor\u001b[39;00m f \u001b[39min\u001b[39;00m \u001b[39mfilter\u001b[39m(\u001b[39mNone\u001b[39;00m, (\u001b[39mself\u001b[39m\u001b[39m.\u001b[39mstdin, \u001b[39mself\u001b[39m\u001b[39m.\u001b[39mstdout, \u001b[39mself\u001b[39m\u001b[39m.\u001b[39mstderr)):\n",
      "File \u001b[0;32m~/miniconda3/envs/pcraster/lib/python3.11/subprocess.py:1950\u001b[0m, in \u001b[0;36mPopen._execute_child\u001b[0;34m(self, args, executable, preexec_fn, close_fds, pass_fds, cwd, env, startupinfo, creationflags, shell, p2cread, p2cwrite, c2pread, c2pwrite, errread, errwrite, restore_signals, gid, gids, uid, umask, start_new_session, process_group)\u001b[0m\n\u001b[1;32m   1948\u001b[0m     \u001b[39mif\u001b[39;00m errno_num \u001b[39m!=\u001b[39m \u001b[39m0\u001b[39m:\n\u001b[1;32m   1949\u001b[0m         err_msg \u001b[39m=\u001b[39m os\u001b[39m.\u001b[39mstrerror(errno_num)\n\u001b[0;32m-> 1950\u001b[0m     \u001b[39mraise\u001b[39;00m child_exception_type(errno_num, err_msg, err_filename)\n\u001b[1;32m   1951\u001b[0m \u001b[39mraise\u001b[39;00m child_exception_type(err_msg)\n",
      "\u001b[0;31mFileNotFoundError\u001b[0m: [Errno 2] No such file or directory: 'py'"
     ]
    }
   ],
   "source": [
    "# #USING GDAL SCRIPTS -gdal2xyz.py -csv input.tif result.csv\n",
    "# import os\n",
    "\n",
    "\n",
    "# Directory = \"home/felwind14/miniconda3/envs/pcraster/lib/python3.11/site-packages/osgeo_utils/\"\n",
    "\n",
    "\n",
    "# def run_script(params):\n",
    "#     import subprocess\n",
    "#     params.insert(0,\"py\")\n",
    "#     p = subprocess.Popen(params, stdout=subprocess.PIPE, stderr=subprocess.PIPE)\n",
    "#     out, err = p.communicate()\n",
    "#     if bytes.decode(err) != '':\n",
    "#         raise ValueError(bytes.decode(err))\n",
    "#     else:\n",
    "#         return bytes.decode(out)\n",
    "\n",
    "# #change to the data directory\n",
    "# data_dir='/mnt/c/Users/felip/OneDrive - Universidad Nacional de Colombia/2_Formation/DataSc/2_SpatialDS/3_PrGeoHydApp/1_IHE_py4hydro/3_MapAlPcrtut/1_MapAlgebra/data'\n",
    "# os.chdir(data_dir)\n",
    "# run_script([Directory + \"/gdal2xyz.py\", \"-csv\",'-b','1', 'fdtm.map','fdem.csv'])\n",
    "# print (\"Done\")\n",
    "\n",
    "\n",
    "# import os\n",
    "# import subprocess\n",
    "\n",
    "# Directory = r\"/mnt/wsl.localhost/Ubuntu-22.04/home/felwind14/miniconda3/envs/pcraster/lib/python3.11/site-packages/osgeo_utils/\"\n",
    "\n",
    "# def run_script(params):\n",
    "#     p = subprocess.Popen(params, stdout=subprocess.PIPE, stderr=subprocess.PIPE)\n",
    "#     out, err = p.communicate()\n",
    "#     if err:\n",
    "#         raise ValueError(err.decode())\n",
    "#     else:\n",
    "#         return out.decode()\n",
    "\n",
    "# # Change to the data directory\n",
    "# data_dir = '/mnt/c/Users/felip/OneDrive - Universidad Nacional de Colombia/2_Formation/DataSc/2_SpatialDS/3_PrGeoHydApp/1_IHE_py4hydro/3_MapAlPcrtut/1_MapAlgebra/data'\n",
    "# os.chdir(data_dir)\n",
    "\n",
    "# # Full path to the Python interpreter\n",
    "# python_interpreter = '/mnt/wsl.localhost/Ubuntu-22.04/home/felwind14/miniconda3/envs/pcraster/bin/python'\n",
    "\n",
    "# # Script path\n",
    "# script_path = os.path.join(Directory, \"gdal2xyz.py\")\n",
    "\n",
    "# run_script([python_interpreter, script_path, \"-csv\", \"-b\", \"1\", \"fdtm.map\", \"fdem.csv\"])\n",
    "# print(\"Done\")\n",
    "\n"
   ]
  },
  {
   "cell_type": "markdown",
   "metadata": {},
   "source": [
    "Based on these results we can conclude that the raster layers have the same properties and are suitable for map algebra."
   ]
  },
  {
   "cell_type": "markdown",
   "metadata": {},
   "source": [
    "<!--NAVIGATION-->\n",
    "< [Introduction](Introduction.ipynb) | [Contents](Contents.ipynb) | [Condition 1](Condition_1.ipynb) >"
   ]
  }
 ],
 "metadata": {
  "kernelspec": {
   "display_name": "Python 3",
   "language": "python",
   "name": "python3"
  },
  "language_info": {
   "codemirror_mode": {
    "name": "ipython",
    "version": 3
   },
   "file_extension": ".py",
   "mimetype": "text/x-python",
   "name": "python",
   "nbconvert_exporter": "python",
   "pygments_lexer": "ipython3",
   "version": "3.11.4"
  }
 },
 "nbformat": 4,
 "nbformat_minor": 4
}
