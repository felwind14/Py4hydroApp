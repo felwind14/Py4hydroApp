{
 "cells": [
  {
   "cell_type": "markdown",
   "metadata": {},
   "source": [
    "<!--NAVIGATION-->\n",
    "< [Introduction](Introduction.ipynb) | [Contents](Contents.ipynb) | [Condition 1](Condition_1.ipynb) >"
   ]
  },
  {
   "cell_type": "markdown",
   "metadata": {},
   "source": [
    "# 2. Preparation\n",
    "## 2.1 Introduction\n",
    "For this task you are provided with the following raster layers: `buildg.tif`, `roads.tif`, `dtm.tif`, and `gwlevel.tif`. You can find these files in the `data` folder.\n",
    "\n",
    "To work with PCRaster we need to convert the files to the PCRaster format. You can do that from the command line using the GDAL commands. Here we'll do the conversion with the GDAL Python library.\n",
    "\n",
    "## 2.2 Convert rasters with GDAL\n",
    "\n",
    "Let's convert the `buildg.tif` file.\n",
    "First we import `gdal` and `gdalconst` from the `osgeo` library:"
   ]
  },
  {
   "cell_type": "code",
   "execution_count": 7,
   "metadata": {},
   "outputs": [],
   "source": [
    "from osgeo import gdal, gdalconst"
   ]
  },
  {
   "cell_type": "markdown",
   "metadata": {},
   "source": []
  },
  {
   "cell_type": "markdown",
   "metadata": {},
   "source": [
    "Then we read the GeoTIFF from our `data` folder."
   ]
  },
  {
   "cell_type": "code",
   "execution_count": 8,
   "metadata": {},
   "outputs": [],
   "source": [
    "src_ds = gdal.Open( \"data/buildg.tif\" )"
   ]
  },
  {
   "cell_type": "markdown",
   "metadata": {},
   "source": [
    "Next we can use the Python equivalent of [`gdal_translate`](https://gdal.org/programs/gdal_translate.html#gdal-translate): `Translate`. We need to use the name of the format. See [GDAL Raster drivers (short name)](https://gdal.org/drivers/raster/index.html) for formats. In our case the output format is `PCRaster`.\n",
    "\n",
    "We also need to define the data type of the output.\n",
    "\n",
    "PCRaster uses data typing of the data in the database: each map has one of the six data types used attached to it. These data types help you and PCRaster to structure the data. See the table below.<br>\n",
    "\n",
    "| data type | description of attributes | domain | example |\n",
    "|:-------:|:-------:|:-------:|:-------:|\n",
    "| boolean | boolean | 0 (FALSE),<br> 1 (TRUE) | suitable/unsuitable, visible/non visible |\n",
    "| nominal |\tclassified, no order | whole values | soil classes |\n",
    "| ordinal | classified, order | whole values | succession stages, income groups |\n",
    "| scalar | continuous, linear | real values | temperature, concentration |\n",
    "| directional | continuous, directional | 0 to 360 degrees | aspect |\n",
    "| ldd | direction to neighbour cell | codes of directions | drainage networks |\n",
    "\n",
    "In the arguments of `Translate` you need to define the `outputType` and `metadataOptions` based on the table below. Note that we can only convert boolean, nominal and scalar rasters. The ldd and directional rasters are created within PCRaster. For scalar we can use Float 32 or Float 64, depending on the desired precision.\n",
    "\n",
    "| data type | `outputType` | `metadataOptions` |\n",
    "|:-------:|:-------:|:-------:|\n",
    "| boolean | `gdalconst.GDT_Byte` | `'VS_BOOLEAN'`|\n",
    "| nominal | `gdalconst.GDT_Int32` | `'VS_NOMINAL'`|\n",
    "| scalar | `gdalconst.GDT_Float32` | `'VS_SCALAR'`|\n",
    "| scalar | `gdalconst.GDT_Float64` | `'VS_SCALAR'`|\n",
    "\n",
    "`buildg.tif` is a nominal raster. It contains classes. Therefore the code we'll use for `Translate` is:"
   ]
  },
  {
   "cell_type": "code",
   "execution_count": 9,
   "metadata": {},
   "outputs": [],
   "source": [
    "dst_ds = gdal.Translate('data/buildg.map', src_ds, format='PCRaster', \\\n",
    "                        outputType=gdalconst.GDT_Int32, metadataOptions='VS_NOMINAL')"
   ]
  },
  {
   "cell_type": "markdown",
   "metadata": {},
   "source": [
    "And we properly close the datasets to flush to disk:"
   ]
  },
  {
   "cell_type": "code",
   "execution_count": 10,
   "metadata": {},
   "outputs": [],
   "source": [
    "dst_ds = None\n",
    "src_ds = None"
   ]
  },
  {
   "cell_type": "markdown",
   "metadata": {},
   "source": [
    "Now you can find the file `buildg.map` on your hard disk. Check if that's the case if you're running this notebook locally.\n",
    "\n",
    "Let's apply the same code to the other files `dtm.tif`, `roads.tif` and `gwlevel.tif`. In this case it's easier to write it as a function."
   ]
  },
  {
   "cell_type": "code",
   "execution_count": 11,
   "metadata": {},
   "outputs": [],
   "source": [
    "#Import gdal\n",
    "from osgeo import gdal\n",
    "\n",
    "def ConvertToPCRaster(src_filename,dst_filename,ot,VS):\n",
    "    #Open existing dataset\n",
    "    src_ds = gdal.Open(src_filename)\n",
    "    \n",
    "    #GDAL Translate\n",
    "    dst_ds = gdal.Translate(dst_filename, src_ds, format='PCRaster', outputType=ot, metadataOptions=VS)\n",
    "    \n",
    "    #Properly close the datasets to flush to disk\n",
    "    dst_ds = None\n",
    "    src_ds = None\n",
    "    \n",
    "ConvertToPCRaster(\"data/buildg.tif\",\"data/buildg.map\",gdalconst.GDT_Int32,\"VS_NOMINAL\")\n",
    "ConvertToPCRaster(\"data/roads.tif\",\"data/roads.map\",gdalconst.GDT_Int32,\"VS_NOMINAL\")\n",
    "ConvertToPCRaster(\"data/gwlevel.tif\",\"data/gwlevel.map\",gdalconst.GDT_Float32,\"VS_SCALAR\")\n",
    "ConvertToPCRaster(\"data/dtm.tif\",\"data/dtm.map\",gdalconst.GDT_Float32,\"VS_SCALAR\")"
   ]
  },
  {
   "cell_type": "markdown",
   "metadata": {},
   "source": [
    "## 2.3 Inspecting the data\n",
    "For map algebra the properties of all raster layers used in calculations need to be the same.\n",
    "Let's find out if they have the same number of rows and columns, coordinates and pixel size.\n",
    "\n",
    "Let's open a PCRaster file with GDAL."
   ]
  },
  {
   "cell_type": "code",
   "execution_count": 12,
   "metadata": {},
   "outputs": [],
   "source": [
    "RasterLayer = gdal.Open(\"data/dtm.map\")"
   ]
  },
  {
   "cell_type": "markdown",
   "metadata": {},
   "source": [
    "To get the numbers of rows and columns we can use the GDAL functions `RasterXSize` and `RasterYSize`.\n",
    "`RasterLayer.GetDescription()` gives the relative path of the layer."
   ]
  },
  {
   "cell_type": "code",
   "execution_count": 15,
   "metadata": {},
   "outputs": [
    {
     "name": "stdout",
     "output_type": "stream",
     "text": [
      "data/dtm.map has 60 columns and 60 rows\n"
     ]
    }
   ],
   "source": [
    "Path = RasterLayer.GetDescription()\n",
    "NrColumns = RasterLayer.RasterXSize\n",
    "NrRows = RasterLayer.RasterYSize\n",
    "print('{} has {} columns and {} rows'.format(Path,NrColumns,NrRows ))"
   ]
  },
  {
   "cell_type": "markdown",
   "metadata": {},
   "source": [
    "To know the coordinates and pixel size we can use `GetGeoTransform` from GDAL.\n",
    "It returns a tuple with the following information:\n",
    "`RasterLayer.GetGeoTransform[0]`: Top left X coordinate\n",
    "\n",
    "`RasterLayer.GetGeoTransform[1]`: West-East pixel resolution\n",
    "\n",
    "`RasterLayer.GetGeoTransform[2]`: Rotation, 0 for \"north up\"\n",
    "\n",
    "`RasterLayer.GetGeoTransform[3]`: Top left Y coordinate\n",
    "\n",
    "`RasterLayer.GetGeoTransform[4]`: Rotation, 0 for \"north up\"\n",
    "\n",
    "`RasterLayer.GetGeoTransform[5]`: North-South pixel resolution (negative)"
   ]
  },
  {
   "cell_type": "code",
   "execution_count": 16,
   "metadata": {},
   "outputs": [
    {
     "data": {
      "text/plain": [
       "(288674.671, 50.0, 0.0, 3352810.143, 0.0, -50.0)"
      ]
     },
     "execution_count": 16,
     "metadata": {},
     "output_type": "execute_result"
    }
   ],
   "source": [
    "RasterLayer.GetGeoTransform()"
   ]
  },
  {
   "cell_type": "markdown",
   "metadata": {},
   "source": [
    "Let's present that more readable."
   ]
  },
  {
   "cell_type": "code",
   "execution_count": 17,
   "metadata": {},
   "outputs": [
    {
     "name": "stdout",
     "output_type": "stream",
     "text": [
      "Origin = (288674.671, 3352810.143)\n",
      "Pixel Size = (50.0, -50.0)\n"
     ]
    }
   ],
   "source": [
    "print(\"Origin = ({}, {})\".format(RasterLayer.GetGeoTransform()[0], RasterLayer.GetGeoTransform()[3]))\n",
    "print(\"Pixel Size = ({}, {})\".format(RasterLayer.GetGeoTransform()[1],RasterLayer.GetGeoTransform()[5]))"
   ]
  },
  {
   "cell_type": "markdown",
   "metadata": {},
   "source": [
    "We can also use GDAL to get the projection information. The PCRaster format doesn't store the projection information, but when we converted the rasters it saves an XML file with the projection info. The GDAL function is `GetProjection()`."
   ]
  },
  {
   "cell_type": "code",
   "execution_count": 18,
   "metadata": {},
   "outputs": [
    {
     "data": {
      "text/plain": [
       "'PROJCS[\"WGS 84 / UTM zone 30N\",GEOGCS[\"WGS 84\",DATUM[\"WGS_1984\",SPHEROID[\"WGS 84\",6378137,298.257223563,AUTHORITY[\"EPSG\",\"7030\"]],AUTHORITY[\"EPSG\",\"6326\"]],PRIMEM[\"Greenwich\",0,AUTHORITY[\"EPSG\",\"8901\"]],UNIT[\"degree\",0.0174532925199433,AUTHORITY[\"EPSG\",\"9122\"]],AUTHORITY[\"EPSG\",\"4326\"]],PROJECTION[\"Transverse_Mercator\"],PARAMETER[\"latitude_of_origin\",0],PARAMETER[\"central_meridian\",-3],PARAMETER[\"scale_factor\",0.9996],PARAMETER[\"false_easting\",500000],PARAMETER[\"false_northing\",0],UNIT[\"metre\",1,AUTHORITY[\"EPSG\",\"9001\"]],AXIS[\"Easting\",EAST],AXIS[\"Northing\",NORTH],AUTHORITY[\"EPSG\",\"32630\"]]'"
      ]
     },
     "execution_count": 18,
     "metadata": {},
     "output_type": "execute_result"
    }
   ],
   "source": [
    "RasterLayer.GetProjection()"
   ]
  },
  {
   "cell_type": "markdown",
   "metadata": {},
   "source": [
    "That gives us a string in the OGC WKT format.\n",
    "In order to make the projection and the units readable, we need to parse the OGC WKT string. For that we'll use the [PyCRS](https://pypi.org/project/PyCRS/) library. \n",
    "\n",
    "If it's not installed yet if you run this notebook locally, you can install the library by typing the following at the Anaconda prompt:\n",
    "\n",
    "`conda install -c conda-forge pycrs`\n",
    "\n",
    "First we import the library and save the OGC WKT string in a variable that we parse."
   ]
  },
  {
   "cell_type": "code",
   "execution_count": 21,
   "metadata": {},
   "outputs": [],
   "source": [
    "import pycrs\n",
    "RasterLayerProjection = RasterLayer.GetProjection()\n",
    "\n",
    "# Parse OGC WKT string\n",
    "crs = pycrs.parse.from_ogc_wkt(RasterLayerProjection)"
   ]
  },
  {
   "cell_type": "markdown",
   "metadata": {},
   "source": [
    "We can check if it is a projected coordinate system:"
   ]
  },
  {
   "cell_type": "code",
   "execution_count": 22,
   "metadata": {},
   "outputs": [
    {
     "data": {
      "text/plain": [
       "True"
      ]
     },
     "execution_count": 22,
     "metadata": {},
     "output_type": "execute_result"
    }
   ],
   "source": [
    "isinstance(crs, pycrs.ProjCS)"
   ]
  },
  {
   "cell_type": "markdown",
   "metadata": {},
   "source": [
    "The result is `True` so we're not dealing with a Geographical Coordinate System.\n",
    "Let's get the name of the projection."
   ]
  },
  {
   "cell_type": "code",
   "execution_count": 23,
   "metadata": {},
   "outputs": [
    {
     "name": "stdout",
     "output_type": "stream",
     "text": [
      "WGS 84 / UTM zone 30N\n"
     ]
    }
   ],
   "source": [
    "ProjectionName = crs.name\n",
    "print(ProjectionName)"
   ]
  },
  {
   "cell_type": "markdown",
   "metadata": {},
   "source": [
    "We can also get the units of the projection:"
   ]
  },
  {
   "cell_type": "code",
   "execution_count": 24,
   "metadata": {},
   "outputs": [
    {
     "name": "stdout",
     "output_type": "stream",
     "text": [
      "Meters\n"
     ]
    }
   ],
   "source": [
    "ProjectionUnits = crs.unit.unitname.ogc_wkt\n",
    "print(ProjectionUnits)"
   ]
  },
  {
   "cell_type": "markdown",
   "metadata": {},
   "source": [
    "Finally it would be useful to get some statistics from the raster layer. Let's calculate the minimum and maximum value.\n",
    "Because raster layers can have multiple bands we need to select the band. In our case we have a single band raster layer, so we have to choose band 1."
   ]
  },
  {
   "cell_type": "code",
   "execution_count": 25,
   "metadata": {},
   "outputs": [],
   "source": [
    "RasterLayerBand = RasterLayer.GetRasterBand(1)"
   ]
  },
  {
   "cell_type": "markdown",
   "metadata": {},
   "source": [
    "Now we can calculate the minumum and maximum value of the band using respectively `GetMinimum` and `GetMaximum`."
   ]
  },
  {
   "cell_type": "code",
   "execution_count": 26,
   "metadata": {},
   "outputs": [
    {
     "name": "stdout",
     "output_type": "stream",
     "text": [
      "Minimum:  201.0\n",
      "Maximum:  298.0\n"
     ]
    }
   ],
   "source": [
    "RasterLayerMinimum = RasterLayerBand.GetMinimum()\n",
    "RasterLayerMaximum = RasterLayerBand.GetMaximum()\n",
    "print(\"Minimum: \", RasterLayerMinimum)\n",
    "print(\"Maximum: \", RasterLayerMaximum)"
   ]
  },
  {
   "cell_type": "markdown",
   "metadata": {},
   "source": [
    "Let's write this in a function and get the raster layer properties for all the raster layers so we can compare."
   ]
  },
  {
   "cell_type": "code",
   "execution_count": 27,
   "metadata": {},
   "outputs": [
    {
     "name": "stdout",
     "output_type": "stream",
     "text": [
      "Raster file: data/dtm.map\n",
      "Driver: PCRaster/PCRaster Raster File\n",
      "Size is 60 x 60 x 1\n",
      "Projection: WGS 84 / UTM zone 30N\n",
      "Map units: Meters\n",
      "Origin = (288674.671, 3352810.143)\n",
      "Pixel Size = (50.0 Meters, -50.0 Meters)\n",
      "Minimum: 201.0\n",
      "Maximum: 298.0\n",
      "\n",
      "Raster file: data/buildg.map\n",
      "Driver: PCRaster/PCRaster Raster File\n",
      "Size is 60 x 60 x 1\n",
      "Projection: WGS 84 / UTM zone 30N\n",
      "Map units: Meters\n",
      "Origin = (288674.671, 3352810.143)\n",
      "Pixel Size = (50.0 Meters, -50.0 Meters)\n",
      "Minimum: 0.0\n",
      "Maximum: 5.0\n",
      "\n",
      "Raster file: data/roads.map\n",
      "Driver: PCRaster/PCRaster Raster File\n",
      "Size is 60 x 60 x 1\n",
      "Projection: WGS 84 / UTM zone 30N\n",
      "Map units: Meters\n",
      "Origin = (288674.671, 3352810.143)\n",
      "Pixel Size = (50.0 Meters, -50.0 Meters)\n",
      "Minimum: 0.0\n",
      "Maximum: 2.0\n",
      "\n",
      "Raster file: data/gwlevel.map\n",
      "Driver: PCRaster/PCRaster Raster File\n",
      "Size is 60 x 60 x 1\n",
      "Projection: WGS 84 / UTM zone 30N\n",
      "Map units: Meters\n",
      "Origin = (288674.671, 3352810.143)\n",
      "Pixel Size = (50.0 Meters, -50.0 Meters)\n",
      "Minimum: 127.98716735839844\n",
      "Maximum: 274.8428955078125\n",
      "\n"
     ]
    }
   ],
   "source": [
    "from osgeo import gdal\n",
    "import pycrs\n",
    "\n",
    "def RasterLayerProperties(RasterLayer):\n",
    "    print(\"Raster file: {}\".format(RasterLayer.GetDescription()))\n",
    "    print(\"Driver: {}/{}\".format(RasterLayer.GetDriver().ShortName,\n",
    "                            RasterLayer.GetDriver().LongName))\n",
    "    print(\"Size is {} x {} x {}\".format(RasterLayer.RasterXSize,\n",
    "                                    RasterLayer.RasterYSize,\n",
    "                                    RasterLayer.RasterCount))\n",
    "    RasterLayerProjection = RasterLayer.GetProjection()\n",
    "    crs = pycrs.parse.from_ogc_wkt(RasterLayerProjection)\n",
    "    print(\"Projection:\",crs.name)\n",
    "    print(\"Map units:\",crs.unit.unitname.ogc_wkt)\n",
    "    geotransform = RasterLayer.GetGeoTransform()\n",
    "    if geotransform:\n",
    "        print(\"Origin = ({}, {})\".format(geotransform[0], geotransform[3]))\n",
    "        print(\"Pixel Size = ({} {}, {} {})\".format(geotransform[1],crs.unit.unitname.ogc_wkt, \\\n",
    "                                                   geotransform[5],crs.unit.unitname.ogc_wkt))\n",
    "    RasterLayerBand = RasterLayer.GetRasterBand(1)\n",
    "    print(\"Minimum: {}\".format(RasterLayerBand.GetMinimum()))\n",
    "    print(\"Maximum: {}\".format(RasterLayerBand.GetMaximum()))\n",
    "    \n",
    "    print()\n",
    "    RasterLayer = None\n",
    "    \n",
    "    \n",
    "DTMLayer = gdal.Open( \"data/dtm.map\" )\n",
    "RasterLayerProperties(DTMLayer)\n",
    "\n",
    "BuildgLayer = gdal.Open( \"data/buildg.map\" )\n",
    "RasterLayerProperties(BuildgLayer)\n",
    "\n",
    "RoadsLayer = gdal.Open( \"data/roads.map\" )\n",
    "RasterLayerProperties(RoadsLayer)\n",
    "\n",
    "GWLevelLayer = gdal.Open( \"data/gwlevel.map\" )\n",
    "RasterLayerProperties(GWLevelLayer)"
   ]
  },
  {
   "cell_type": "markdown",
   "metadata": {},
   "source": [
    "Based on these results we can conclude that the raster layers have the same properties and are suitable for map algebra."
   ]
  },
  {
   "cell_type": "markdown",
   "metadata": {},
   "source": [
    "<!--NAVIGATION-->\n",
    "< [Introduction](Introduction.ipynb) | [Contents](Contents.ipynb) | [Condition 1](Condition_1.ipynb) >"
   ]
  }
 ],
 "metadata": {
  "kernelspec": {
   "display_name": "Python 3",
   "language": "python",
   "name": "python3"
  },
  "language_info": {
   "codemirror_mode": {
    "name": "ipython",
    "version": 3
   },
   "file_extension": ".py",
   "mimetype": "text/x-python",
   "name": "python",
   "nbconvert_exporter": "python",
   "pygments_lexer": "ipython3",
   "version": "3.11.4"
  }
 },
 "nbformat": 4,
 "nbformat_minor": 4
}
