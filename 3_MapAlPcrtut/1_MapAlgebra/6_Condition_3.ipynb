{
 "cells": [
  {
   "cell_type": "markdown",
   "metadata": {},
   "source": [
    "<!--NAVIGATION-->\n",
    "< [Condition 2](Condition_2.ipynb) | [Contents](Contents.ipynb) | [Combine the three conditions](Combine.ipynb) >"
   ]
  },
  {
   "cell_type": "markdown",
   "metadata": {},
   "source": [
    "# 5.1 Condition 3: Wells Less than 40 Meters Deep\n",
    "For the last condition we need to identify the wells that are less than 40 m deep.\n",
    "\n",
    "`gwlevel.map` gives the absolute elevation of the groundwater level in the well in meters above sea level. In order to calculate the depth to the groundwater, we need to subtract this from the surface elevation given in the digital terrain model (`dtm.map`).\n",
    "\n",
    "Let's first import PCRaster, change to the `data` folder and load the `showmap` function."
   ]
  },
  {
   "cell_type": "code",
   "execution_count": 1,
   "metadata": {},
   "outputs": [
    {
     "name": "stdout",
     "output_type": "stream",
     "text": [
      "/mnt/c/Users/felip/OneDrive - Universidad Nacional de Colombia/2_Formation/DataSc/2_SpatialDS/3_PrGeoHydApp/1_IHEpy4hydroapp/3_MapAlPcrtut/1_MapAlgebra\n"
     ]
    }
   ],
   "source": [
    "import os\n",
    "from pcraster import *\n",
    "\n",
    "print(os.getcwd())\n",
    "os.chdir(\"./data\")"
   ]
  },
  {
   "cell_type": "markdown",
   "metadata": {},
   "source": [
    "And read `gwlevel.map` and `dtm.map` from disk and use the variables `GWLevel` and `DTM` respectively. Try to do that by yourself in the next line."
   ]
  },
  {
   "cell_type": "code",
   "execution_count": 3,
   "metadata": {},
   "outputs": [
    {
     "data": {
      "text/plain": [
       "<pcraster._pcraster.Field at 0x7fa8ec3652f0>"
      ]
     },
     "execution_count": 3,
     "metadata": {},
     "output_type": "execute_result"
    }
   ],
   "source": [
    "GWLevel=readmap(\"gwlevel.map\")\n",
    "DTM = readmap(\"fdtm.map\")\n"
   ]
  },
  {
   "cell_type": "code",
   "execution_count": null,
   "metadata": {},
   "outputs": [],
   "source": [
    "#By FF\n",
    "aguila(GWLevel)\n",
    "aguila(DTM)"
   ]
  },
  {
   "cell_type": "markdown",
   "metadata": {},
   "source": [
    "Now we can calculate the well depth by subtracting the rasters:"
   ]
  },
  {
   "cell_type": "code",
   "execution_count": 4,
   "metadata": {},
   "outputs": [],
   "source": [
    "WellDepth = DTM - GWLevel"
   ]
  },
  {
   "cell_type": "markdown",
   "metadata": {},
   "source": [
    "Let's visualise the result. Is it boolean, nominal or scalar?"
   ]
  },
  {
   "cell_type": "code",
   "execution_count": 6,
   "metadata": {},
   "outputs": [],
   "source": [
    "aguila(WellDepth) #scalar"
   ]
  },
  {
   "cell_type": "markdown",
   "metadata": {},
   "source": [
    "We can calculate a boolean raster where pixels with a well depth < 40 are True and >= 40 are False. Type the code in the next field and write the output to variable `NotDeep`."
   ]
  },
  {
   "cell_type": "code",
   "execution_count": 7,
   "metadata": {},
   "outputs": [],
   "source": [
    "NotDeep = WellDepth <=40"
   ]
  },
  {
   "cell_type": "markdown",
   "metadata": {},
   "source": [
    "Visualise and save the result to `notdeep.map`."
   ]
  },
  {
   "cell_type": "code",
   "execution_count": 8,
   "metadata": {
    "scrolled": true
   },
   "outputs": [],
   "source": [
    "aguila(NotDeep)"
   ]
  },
  {
   "cell_type": "code",
   "execution_count": 10,
   "metadata": {},
   "outputs": [],
   "source": [
    "report(NotDeep, 'fnotdeep.map')"
   ]
  },
  {
   "cell_type": "code",
   "execution_count": 23,
   "metadata": {},
   "outputs": [],
   "source": [
    "#Maps to Numpy\n",
    "%matplotlib inline\n",
    "from pcraster import *\n",
    "from matplotlib.colors import ListedColormap\n",
    "import matplotlib.pyplot as plt\n",
    "import numpy as np\n",
    "\n",
    "def showmap(pcrastermap):\n",
    "    if pcrastermap.dataType() == VALUESCALE.Nominal:\n",
    "        MapArray = pcr2numpy(pcrastermap,-9999)\n",
    "        cmap = 'Set1'\n",
    "        plt.imshow(MapArray,cmap=cmap)\n",
    "        plt.colorbar()\n",
    "        \n",
    "    elif pcrastermap.dataType() == VALUESCALE.Boolean:\n",
    "        MapArray = pcr2numpy(pcrastermap,0)\n",
    "        cmap = ListedColormap([\"red\",\"green\"])\n",
    "        plt.imshow(MapArray,cmap=cmap,vmin=0)\n",
    "        plt.colorbar(ticks=[0,1])\n",
    "    else:\n",
    "        MapArray = pcr2numpy(pcrastermap,-9999)\n",
    "        MapArray[MapArray == -9999] = np.nan\n",
    "        cmap = 'cool'\n",
    "        plt.imshow(MapArray, cmap=cmap)\n",
    "        plt.colorbar()\n",
    "    \n",
    "    plt.axis('off')\n",
    "    plt.show()\n",
    "\n",
    "\n",
    "#os.chdir(\"./data\")"
   ]
  },
  {
   "cell_type": "code",
   "execution_count": 24,
   "metadata": {},
   "outputs": [
    {
     "name": "stdout",
     "output_type": "stream",
     "text": [
      "/mnt/c/Users/felip/OneDrive - Universidad Nacional de Colombia/2_Formation/DataSc/2_SpatialDS/3_PrGeoHydApp/1_IHEpy4hydroapp/3_MapAlPcrtut/1_MapAlgebra/data\n"
     ]
    }
   ],
   "source": [
    "print(os.getcwd())\n",
    "#os.chdir(\"./data\")"
   ]
  },
  {
   "cell_type": "code",
   "execution_count": 25,
   "metadata": {},
   "outputs": [
    {
     "data": {
      "image/png": "[encoded data removed]",
      "text/plain": [
       "<Figure size 640x480 with 2 Axes>"
      ]
     },
     "metadata": {},
     "output_type": "display_data"
    }
   ],
   "source": [
    "Build = readmap(\"fbuildg.map\")\n",
    "showmap(DTM)"
   ]
  },
  {
   "cell_type": "markdown",
   "metadata": {},
   "source": [
    "<!--NAVIGATION-->\n",
    "< [Condition 2](Condition_2.ipynb) | [Contents](Contents.ipynb) | [Combine the three conditions](Combine.ipynb) >"
   ]
  }
 ],
 "metadata": {
  "kernelspec": {
   "display_name": "Python 3",
   "language": "python",
   "name": "python3"
  },
  "language_info": {
   "codemirror_mode": {
    "name": "ipython",
    "version": 3
   },
   "file_extension": ".py",
   "mimetype": "text/x-python",
   "name": "python",
   "nbconvert_exporter": "python",
   "pygments_lexer": "ipython3",
   "version": "3.11.4"
  }
 },
 "nbformat": 4,
 "nbformat_minor": 4
}
